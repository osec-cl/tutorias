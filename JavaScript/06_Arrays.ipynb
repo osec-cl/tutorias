{
 "cells": [
  {
   "cell_type": "markdown",
   "metadata": {},
   "source": [
    "# Arrays\n",
    "\n",
    "Un array es una colección indexada de elementos."
   ]
  },
  {
   "cell_type": "markdown",
   "metadata": {},
   "source": [
    "## Características generales\n",
    "\n",
    "* Son de largo variable.\n",
    "* Pueden mezclar los tipos de datos.\n",
    "* Sólo pueden accederse con números en brakets.\n",
    "* Sus operaciones de copia sólo generan *shallow copies*."
   ]
  },
  {
   "cell_type": "markdown",
   "metadata": {},
   "source": [
    "## Operaciones\n",
    "\n",
    "A continuación se listan las operaciones más comunes."
   ]
  },
  {
   "cell_type": "markdown",
   "metadata": {},
   "source": [
    "### Crear un array"
   ]
  },
  {
   "cell_type": "markdown",
   "metadata": {},
   "source": [
    "* **Array literal**"
   ]
  },
  {
   "cell_type": "code",
   "execution_count": 1,
   "metadata": {},
   "outputs": [
    {
     "name": "stdout",
     "output_type": "stream",
     "text": [
      "Primero\n",
      "Segundo\n",
      "Tercero\n"
     ]
    }
   ],
   "source": [
    "const my_arr_1 = [\"Primero\", \"Segundo\", \"Tercero\"];\n",
    "\n",
    "console.log(my_arr_1[0]);\n",
    "console.log(my_arr_1[1]);\n",
    "console.log(my_arr_1[2]);"
   ]
  },
  {
   "cell_type": "markdown",
   "metadata": {},
   "source": [
    "Añadir una coma extra genera un espacio vacío.\n",
    "\n",
    "> Recorrerlo con un `for` se salta este espacio vacío."
   ]
  },
  {
   "cell_type": "code",
   "execution_count": 2,
   "metadata": {},
   "outputs": [
    {
     "name": "stdout",
     "output_type": "stream",
     "text": [
      "[ 1994, 1995, <1 empty item>, 1997 ]\n",
      "undefined\n"
     ]
    }
   ],
   "source": [
    "// @ts-nocheck\n",
    "const my_array_1_1 = [1994, 1995, , 1997];\n",
    "\n",
    "console.log(my_array_1_1);\n",
    "console.log(my_array_1_1[2]);"
   ]
  },
  {
   "cell_type": "markdown",
   "metadata": {},
   "source": [
    "Si se utiliza esta notación en múltiples líneas, la coma después del último ítem es ignorada."
   ]
  },
  {
   "cell_type": "code",
   "execution_count": 3,
   "metadata": {},
   "outputs": [
    {
     "name": "stdout",
     "output_type": "stream",
     "text": [
      "[ \"Abaco\", 36, \"Uvicorn\", \"Pantleto\" ]\n"
     ]
    }
   ],
   "source": [
    "const my_array_1_2 = [\"Abaco\",\n",
    "    36,\n",
    "    \"Uvicorn\",\n",
    "    \"Pantleto\",\n",
    "]\n",
    "\n",
    "console.log(my_array_1_2)"
   ]
  },
  {
   "cell_type": "markdown",
   "metadata": {},
   "source": [
    "* **Constructor**"
   ]
  },
  {
   "cell_type": "code",
   "execution_count": 4,
   "metadata": {},
   "outputs": [
    {
     "name": "stdout",
     "output_type": "stream",
     "text": [
      "First\n",
      "Second\n",
      "Third\n"
     ]
    }
   ],
   "source": [
    "const my_arr_2 = new Array(\"First\", \"Second\", \"Third\");\n",
    "\n",
    "console.log(my_arr_2[0]);\n",
    "console.log(my_arr_2[1]);\n",
    "console.log(my_arr_2[2]);"
   ]
  },
  {
   "cell_type": "markdown",
   "metadata": {},
   "source": [
    "> Para los objetos existe el constructor.\n",
    ">\n",
    "> ```const my_obj = new Object();```\n",
    ">\n",
    "> Pero se prefiere el uso de objetos literales por mayor claridad."
   ]
  },
  {
   "cell_type": "markdown",
   "metadata": {},
   "source": [
    "También es posible omitir la palabra `new`."
   ]
  },
  {
   "cell_type": "code",
   "execution_count": 5,
   "metadata": {},
   "outputs": [
    {
     "name": "stdout",
     "output_type": "stream",
     "text": [
      "[ \"Casa\", \"Auto\", 1984 ]\n"
     ]
    }
   ],
   "source": [
    "const my_arr_2_1 = Array(\"Casa\", \"Auto\", 1984);\n",
    "\n",
    "console.log(my_arr_2_1);"
   ]
  },
  {
   "cell_type": "markdown",
   "metadata": {},
   "source": [
    "### Ver largo"
   ]
  },
  {
   "cell_type": "code",
   "execution_count": 6,
   "metadata": {},
   "outputs": [
    {
     "name": "stdout",
     "output_type": "stream",
     "text": [
      "[ <3 empty items>, \"A\", \"B\", \"C\" ]\n",
      "6\n"
     ]
    }
   ],
   "source": [
    "const my_arr = [, , , \"A\", \"B\", \"C\"];\n",
    "\n",
    "console.log(my_arr);\n",
    "console.log(my_arr.length);"
   ]
  },
  {
   "cell_type": "markdown",
   "metadata": {},
   "source": [
    "### Modificar un valor"
   ]
  },
  {
   "cell_type": "code",
   "execution_count": 7,
   "metadata": {},
   "outputs": [
    {
     "name": "stdout",
     "output_type": "stream",
     "text": [
      "A\n",
      "J\n"
     ]
    }
   ],
   "source": [
    "const my_arr = [\"A\", \"B\", \"C\"];\n",
    "\n",
    "console.log(my_arr[0]);\n",
    "my_arr[0] = \"J\";\n",
    "console.log(my_arr[0]);"
   ]
  },
  {
   "cell_type": "markdown",
   "metadata": {},
   "source": [
    "### Encontrar index"
   ]
  },
  {
   "cell_type": "code",
   "execution_count": 8,
   "metadata": {},
   "outputs": [
    {
     "name": "stdout",
     "output_type": "stream",
     "text": [
      "-1\n",
      "2\n"
     ]
    }
   ],
   "source": [
    "const my_arr = [\"A\", \"B\", \"C\"];\n",
    "\n",
    "console.log(my_arr.indexOf(\"c\"));\n",
    "console.log(my_arr.indexOf(\"C\"));"
   ]
  },
  {
   "cell_type": "markdown",
   "metadata": {},
   "source": [
    "### Añadir ítem al final"
   ]
  },
  {
   "cell_type": "code",
   "execution_count": 9,
   "metadata": {},
   "outputs": [
    {
     "name": "stdout",
     "output_type": "stream",
     "text": [
      "[ \"A\", \"B\", \"C\" ]\n",
      "[ \"A\", \"B\", \"C\", \"D\" ]\n"
     ]
    }
   ],
   "source": [
    "const my_arr = [\"A\", \"B\", \"C\"];\n",
    "console.log(my_arr);\n",
    "\n",
    "my_arr.push(\"D\");\n",
    "console.log(my_arr);"
   ]
  },
  {
   "cell_type": "markdown",
   "metadata": {},
   "source": [
    "### Añadir ítem al inicio"
   ]
  },
  {
   "cell_type": "code",
   "execution_count": 10,
   "metadata": {},
   "outputs": [
    {
     "name": "stdout",
     "output_type": "stream",
     "text": [
      "[ \"B\", \"C\", \"D\" ]\n",
      "[ \"A\", \"B\", \"C\", \"D\" ]\n"
     ]
    }
   ],
   "source": [
    "const my_arr = [\"B\", \"C\", \"D\"];\n",
    "console.log(my_arr);\n",
    "\n",
    "my_arr.unshift(\"A\");\n",
    "console.log(my_arr);"
   ]
  },
  {
   "cell_type": "markdown",
   "metadata": {},
   "source": [
    "### Quitar último ítem"
   ]
  },
  {
   "cell_type": "code",
   "execution_count": 11,
   "metadata": {},
   "outputs": [
    {
     "name": "stdout",
     "output_type": "stream",
     "text": [
      "[ \"A\", \"B\", \"C\" ]\n",
      "C\n",
      "[ \"A\", \"B\" ]\n"
     ]
    }
   ],
   "source": [
    "const my_arr = [\"A\", \"B\", \"C\"];\n",
    "console.log(my_arr);\n",
    "\n",
    "let removed_item = my_arr.pop();\n",
    "console.log(removed_item);\n",
    "\n",
    "console.log(my_arr);"
   ]
  },
  {
   "cell_type": "markdown",
   "metadata": {},
   "source": [
    "### Quitar primer ítem"
   ]
  },
  {
   "cell_type": "code",
   "execution_count": 12,
   "metadata": {},
   "outputs": [
    {
     "name": "stdout",
     "output_type": "stream",
     "text": [
      "[ \"Z\", \"A\", \"B\", \"C\" ]\n",
      "Z\n",
      "[ \"A\", \"B\", \"C\" ]\n"
     ]
    }
   ],
   "source": [
    "const my_arr = [\"Z\", \"A\", \"B\", \"C\"];\n",
    "console.log(my_arr);\n",
    "\n",
    "let removed_item = my_arr.shift();\n",
    "console.log(removed_item);\n",
    "\n",
    "console.log(my_arr);"
   ]
  },
  {
   "cell_type": "markdown",
   "metadata": {},
   "source": [
    "### Quitar el i-ésimo ítem"
   ]
  },
  {
   "cell_type": "code",
   "execution_count": 13,
   "metadata": {},
   "outputs": [
    {
     "name": "stdout",
     "output_type": "stream",
     "text": [
      "[\n",
      "  \"A\", \"B\", \"W\",\n",
      "  \"X\", \"Y\", \"Z\",\n",
      "  \"C\"\n",
      "]\n",
      "[ \"W\" ]\n",
      "[ \"A\", \"B\", \"X\", \"Y\", \"Z\", \"C\" ]\n"
     ]
    }
   ],
   "source": [
    "const my_arr = [\"A\", \"B\", \"W\", \"X\", \"Y\", \"Z\", \"C\"];\n",
    "console.log(my_arr);\n",
    "\n",
    "let i = 2;\n",
    "let removed_item = my_arr.splice(i, 1);\n",
    "console.log(removed_item);\n",
    "\n",
    "console.log(my_arr);"
   ]
  },
  {
   "cell_type": "markdown",
   "metadata": {},
   "source": [
    "### Quitar k elementos desde el i-ésimo ítem"
   ]
  },
  {
   "cell_type": "code",
   "execution_count": 14,
   "metadata": {},
   "outputs": [
    {
     "name": "stdout",
     "output_type": "stream",
     "text": [
      "[\n",
      "  \"A\", \"B\", \"W\",\n",
      "  \"X\", \"Y\", \"Z\",\n",
      "  \"C\"\n",
      "]\n",
      "[ \"W\", \"X\", \"Y\", \"Z\" ]\n",
      "[ \"A\", \"B\", \"C\" ]\n"
     ]
    }
   ],
   "source": [
    "const my_arr = [\"A\", \"B\", \"W\", \"X\", \"Y\", \"Z\", \"C\"];\n",
    "console.log(my_arr);\n",
    "\n",
    "let i = 2;\n",
    "let k = 4;\n",
    "let removed_item = my_arr.splice(i, k);\n",
    "console.log(removed_item);\n",
    "\n",
    "console.log(my_arr);"
   ]
  },
  {
   "cell_type": "markdown",
   "metadata": {},
   "source": [
    "### Convertir string to array"
   ]
  },
  {
   "cell_type": "code",
   "execution_count": 18,
   "metadata": {},
   "outputs": [
    {
     "name": "stdout",
     "output_type": "stream",
     "text": [
      "[ \"Unos \", \" datos \", \" separados \", \" consistentemente\" ]\n"
     ]
    }
   ],
   "source": [
    "const the_data = \"Unos &ndash; datos &ndash; separados &ndash; consistentemente\";\n",
    "\n",
    "const the_arr = the_data.split(\"&ndash;\");\n",
    "\n",
    "console.log(the_arr);"
   ]
  },
  {
   "cell_type": "markdown",
   "metadata": {},
   "source": [
    "### Convertir array to string"
   ]
  },
  {
   "cell_type": "code",
   "execution_count": 19,
   "metadata": {},
   "outputs": [
    {
     "name": "stdout",
     "output_type": "stream",
     "text": [
      "Unos%adj#datos%adj#separados%adj#con%adj#comas\n"
     ]
    }
   ],
   "source": [
    "const the_arr = [\"Unos\", \"datos\", \"separados\", \"con\", \"comas\"];\n",
    "\n",
    "const the_string = the_arr.join(\"%adj#\");\n",
    "\n",
    "console.log(the_string);"
   ]
  },
  {
   "cell_type": "markdown",
   "metadata": {},
   "source": [
    "> Este método es más completo que `.toString()` ya que permite establecer el delimitador."
   ]
  },
  {
   "cell_type": "markdown",
   "metadata": {},
   "source": [
    "### Iterar sobre los items"
   ]
  },
  {
   "cell_type": "code",
   "execution_count": 24,
   "metadata": {},
   "outputs": [
    {
     "name": "stdout",
     "output_type": "stream",
     "text": [
      "Elem = 1\n",
      "Elem = 2\n",
      "Elem = 3\n",
      "Elem = 4\n",
      "Elem = 5\n",
      "Elem = 6\n",
      "Elem = 7\n",
      "Elem = 8\n",
      "Elem = 9\n"
     ]
    }
   ],
   "source": [
    "const my_arr = [1, 2, 3, 4, 5, 6, 7, 8, 9]\n",
    "\n",
    "my_arr.forEach((elem) => console.log(\"Elem = \"+elem) );"
   ]
  },
  {
   "cell_type": "markdown",
   "metadata": {},
   "source": [
    "### Crear nuevo array modificado\n",
    "\n",
    "Si no va a guardar el nuevo array retornado, preferir `.forEach()`."
   ]
  },
  {
   "cell_type": "code",
   "execution_count": 26,
   "metadata": {},
   "outputs": [
    {
     "name": "stdout",
     "output_type": "stream",
     "text": [
      "[\n",
      "  1, 2, 3, 4, 5,\n",
      "  6, 7, 8, 9\n",
      "]\n",
      "[\n",
      "   2,  4,  6,  8, 10,\n",
      "  12, 14, 16, 18\n",
      "]\n"
     ]
    }
   ],
   "source": [
    "const my_arr = [1, 2, 3, 4, 5, 6, 7, 8, 9]\n",
    "\n",
    "const my_mod_arr = my_arr.map((elem) => elem*2);\n",
    "\n",
    "console.log(my_arr);\n",
    "console.log(my_mod_arr);"
   ]
  },
  {
   "cell_type": "markdown",
   "metadata": {},
   "source": [
    "> Para una revisión extensiva de los métodos disponibles para array se recomienda revisar la documentación enlazada al final de este capítulo."
   ]
  },
  {
   "cell_type": "markdown",
   "metadata": {},
   "source": [
    "# Véase también\n",
    "\n",
    "* Reference/Global Object &ndash; Mozilla Developers\n",
    "    * [Array](https://developer.mozilla.org/en-US/docs/Web/JavaScript/Reference/Global_Objects/Array)\n",
    "\n",
    "* Guide &ndash; Mozilla Developers\n",
    "    * [Indexed collections](https://developer.mozilla.org/en-US/docs/Web/JavaScript/Guide/Indexed_collections)\n",
    "\n",
    "* Learn &ndash; Mozilla Developers\n",
    "    * [Arrays](https://developer.mozilla.org/en-US/docs/Learn/JavaScript/First_steps/Arrays)"
   ]
  }
 ],
 "metadata": {
  "kernelspec": {
   "display_name": "Deno",
   "language": "typescript",
   "name": "deno"
  },
  "language_info": {
   "codemirror_mode": "typescript",
   "file_extension": ".ts",
   "mimetype": "text/x.typescript",
   "name": "typescript",
   "nbconvert_exporter": "script",
   "pygments_lexer": "typescript",
   "version": "5.6.2"
  }
 },
 "nbformat": 4,
 "nbformat_minor": 2
}
