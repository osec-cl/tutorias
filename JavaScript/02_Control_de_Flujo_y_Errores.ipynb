{
 "cells": [
  {
   "cell_type": "markdown",
   "metadata": {},
   "source": [
    "# Control de Flujo\n",
    "\n"
   ]
  },
  {
   "cell_type": "markdown",
   "metadata": {},
   "source": [
    "## Bloques\n",
    "\n",
    "Agrupa un conjunto de líneas de código que se ejecutan consecutivamente."
   ]
  },
  {
   "cell_type": "code",
   "execution_count": 42,
   "metadata": {},
   "outputs": [],
   "source": [
    "{\n",
    "    let a = 1;\n",
    "    let b = 2;\n",
    "    //\n",
    "    let n = 9;\n",
    "}"
   ]
  },
  {
   "cell_type": "markdown",
   "metadata": {},
   "source": [
    "## Condicionales\n",
    "\n",
    "Evalúa el booleano de una condición lógica."
   ]
  },
  {
   "cell_type": "markdown",
   "metadata": {},
   "source": [
    "### if\n",
    "\n",
    "El código sólo se ejecuta si se cumple la condición."
   ]
  },
  {
   "cell_type": "code",
   "execution_count": 43,
   "metadata": {},
   "outputs": [
    {
     "name": "stdout",
     "output_type": "stream",
     "text": [
      "Eh, yes.\n"
     ]
    }
   ],
   "source": [
    "if (2 == \"2\" ) {\n",
    "    console.log(\"Eh, yes.\");\n",
    "}\n",
    "\n",
    "if (2 === \"2\") {\n",
    "    console.log(\"This will not be printer\");\n",
    "}"
   ]
  },
  {
   "cell_type": "markdown",
   "metadata": {},
   "source": [
    "### if..else\n",
    "\n",
    "El primer bloque sólo se ejecuta si se cumple la condición, del contrario se ejecuta el segundo bloque."
   ]
  },
  {
   "cell_type": "code",
   "execution_count": 44,
   "metadata": {},
   "outputs": [
    {
     "name": "stdout",
     "output_type": "stream",
     "text": [
      "All good.\n"
     ]
    }
   ],
   "source": [
    "if (2 === \"2\" ) {\n",
    "    console.log(\"This shouldn't be possible\");\n",
    "} else {\n",
    "    console.log(\"All good.\");\n",
    "}"
   ]
  },
  {
   "cell_type": "markdown",
   "metadata": {},
   "source": [
    "### if...else if\n",
    "\n",
    "Si la primera condición lógica no se cumple, se continúa con la siguiente y así hasta que una se cumpla."
   ]
  },
  {
   "cell_type": "code",
   "execution_count": 45,
   "metadata": {},
   "outputs": [
    {
     "name": "stdout",
     "output_type": "stream",
     "text": [
      "Five equals five\n"
     ]
    }
   ],
   "source": [
    "if (\"5\" == 1) {\n",
    "    console.log(\"Five equals one\");\n",
    "} else if (\"5\" == 2) {\n",
    "    console.log(\"Five equals two\");\n",
    "} else if (\"5\" == 3) {\n",
    "    console.log(\"Five equals three\");\n",
    "} else if (\"5\" == 4) {\n",
    "    console.log(\"Five equals four\");\n",
    "} else if (\"5\" == 5) {\n",
    "    console.log(\"Five equals five\");\n",
    "} else if (\"5\" == 6) {\n",
    "    console.log(\"Five equals six\");\n",
    "}"
   ]
  },
  {
   "cell_type": "markdown",
   "metadata": {},
   "source": [
    "### if...else if...else\n",
    "\n",
    "Si ninguna de las condiciones lógicas se cumple, se ejecuta el bloque del `else`."
   ]
  },
  {
   "cell_type": "code",
   "execution_count": 46,
   "metadata": {},
   "outputs": [
    {
     "name": "stdout",
     "output_type": "stream",
     "text": [
      "None of the above\n"
     ]
    }
   ],
   "source": [
    "if (\"5\" == 1) {\n",
    "    console.log(\"Five equals one\");\n",
    "} else if (\"5\" == 2) {\n",
    "    console.log(\"Five equals two\");\n",
    "} else if (\"5\" == 3) {\n",
    "    console.log(\"Five equals three\");\n",
    "} else {\n",
    "    console.log(\"None of the above\");\n",
    "}"
   ]
  },
  {
   "cell_type": "markdown",
   "metadata": {},
   "source": [
    "### switch\n",
    "\n",
    "Ejecuta en cascada todos los bloques de código a partir de la condición que se cumplió.\n",
    "\n",
    "> En esta oportunidad se agrupa código mediante indentación, sin el uso de `{`,`}`."
   ]
  },
  {
   "cell_type": "code",
   "execution_count": 47,
   "metadata": {},
   "outputs": [
    {
     "name": "stdout",
     "output_type": "stream",
     "text": [
      "Case 3: -> Pass\n",
      "Case 4 -> Pass\n",
      "Case 5 -> Pass\n"
     ]
    }
   ],
   "source": [
    "const num = 3;\n",
    "switch (num) {\n",
    "    case 1:\n",
    "        console.log(\"Case 1 -> Pass\");\n",
    "    case 2:\n",
    "        console.log(\"Case 2 -> Pass\");\n",
    "    case 3:\n",
    "        console.log(\"Case 3: -> Pass\");\n",
    "    case 4:\n",
    "        console.log(\"Case 4 -> Pass\");\n",
    "    case 5:\n",
    "        console.log(\"Case 5 -> Pass\");\n",
    "}"
   ]
  },
  {
   "cell_type": "markdown",
   "metadata": {},
   "source": [
    "Si se quiere limitar la cascada de ejecución, termina el bloque de código del *case* con `break`."
   ]
  },
  {
   "cell_type": "code",
   "execution_count": 48,
   "metadata": {},
   "outputs": [
    {
     "name": "stdout",
     "output_type": "stream",
     "text": [
      "Case 3: -> Pass\n",
      "Case 4 -> Pass\n"
     ]
    }
   ],
   "source": [
    "const num = 3;\n",
    "switch (num) {\n",
    "    case 1:\n",
    "        console.log(\"Case 1 -> Pass\");\n",
    "    case 2:\n",
    "        console.log(\"Case 2 -> Pass\");\n",
    "    case 3:\n",
    "        console.log(\"Case 3: -> Pass\");\n",
    "    case 4:\n",
    "        console.log(\"Case 4 -> Pass\");\n",
    "        break;\n",
    "    case 5:\n",
    "        console.log(\"Case 5 -> Pass\");\n",
    "}"
   ]
  },
  {
   "cell_type": "markdown",
   "metadata": {},
   "source": [
    "Es posible añadir un bloque de ejecución por omisión, esto es, que siempre se ejecuta al final de la cascada."
   ]
  },
  {
   "cell_type": "code",
   "execution_count": 49,
   "metadata": {},
   "outputs": [
    {
     "name": "stdout",
     "output_type": "stream",
     "text": [
      "We don't have a match for that\n"
     ]
    }
   ],
   "source": [
    "const num = 6;\n",
    "switch (num) {\n",
    "    case 1:\n",
    "        console.log(\"Case 1 -> Pass\");\n",
    "    case 2:\n",
    "        console.log(\"Case 2 -> Pass\");\n",
    "    case 3:\n",
    "        console.log(\"Case 3: -> Pass\");\n",
    "    case 4:\n",
    "        console.log(\"Case 4 -> Pass\");\n",
    "    case 5:\n",
    "        console.log(\"Case 5 -> Pass\");\n",
    "    default:\n",
    "        console.log(\"We don't have a match for that\")\n",
    "}"
   ]
  },
  {
   "cell_type": "markdown",
   "metadata": {},
   "source": [
    "Recordar que se ejecutará *siempre* al final de la cascada."
   ]
  },
  {
   "cell_type": "code",
   "execution_count": 50,
   "metadata": {},
   "outputs": [
    {
     "name": "stdout",
     "output_type": "stream",
     "text": [
      "Case 3: -> Pass\n",
      "Case 4 -> Pass\n",
      "Case 5 -> Pass\n",
      "We don't have a match for that\n",
      "But we do. Hm.\n"
     ]
    }
   ],
   "source": [
    "const num = 3;\n",
    "switch (num) {\n",
    "    case 1:\n",
    "        console.log(\"Case 1 -> Pass\");\n",
    "    case 2:\n",
    "        console.log(\"Case 2 -> Pass\");\n",
    "    case 3:\n",
    "        console.log(\"Case 3: -> Pass\");\n",
    "    case 4:\n",
    "        console.log(\"Case 4 -> Pass\");\n",
    "    case 5:\n",
    "        console.log(\"Case 5 -> Pass\");\n",
    "    default:\n",
    "        console.log(\"We don't have a match for that\")\n",
    "}\n",
    "console.log(\"But we do. Hm.\");"
   ]
  },
  {
   "cell_type": "markdown",
   "metadata": {},
   "source": [
    "Se recomienda la siguiente plantilla para obtener un resultado consistente en todos los casos.\n",
    "\n",
    "> Recordar que `break` detiene la ejecución de cascada, remover si ese es el comportamiento deseado."
   ]
  },
  {
   "cell_type": "code",
   "execution_count": 51,
   "metadata": {},
   "outputs": [
    {
     "name": "stdout",
     "output_type": "stream",
     "text": [
      "Case 3: -> Pass\n",
      "All good!\n"
     ]
    }
   ],
   "source": [
    "const num = 3;\n",
    "switch (num) {\n",
    "    case 1:\n",
    "        console.log(\"Case 1 -> Pass\");\n",
    "        break;\n",
    "    case 2:\n",
    "        console.log(\"Case 2 -> Pass\");\n",
    "        break;\n",
    "    case 3:\n",
    "        console.log(\"Case 3: -> Pass\");\n",
    "        break;\n",
    "    case 4:\n",
    "        console.log(\"Case 4 -> Pass\");\n",
    "        break;\n",
    "    case 5:\n",
    "        console.log(\"Case 5 -> Pass\");\n",
    "        break;\n",
    "    default:\n",
    "        console.log(\"We don't have a match for that\");\n",
    "        // No need for break here, it will break either way\n",
    "}\n",
    "console.log(\"All good!\");"
   ]
  },
  {
   "cell_type": "markdown",
   "metadata": {},
   "source": [
    "## Manejo de excepciones\n",
    "\n",
    "A continuación se intenta redefinir una constante, lo cual genera un error y aborta la ejecución:"
   ]
  },
  {
   "cell_type": "code",
   "execution_count": 52,
   "metadata": {},
   "outputs": [
    {
     "ename": "TypeError",
     "evalue": "Assignment to constant variable.",
     "output_type": "error",
     "traceback": [
      "Stack trace:",
      "TypeError: Assignment to constant variable.",
      "    at <anonymous>:2:5"
     ]
    }
   ],
   "source": [
    "const num: Number = 3; // Necesito TypeScript para que no se queje\n",
    "\n",
    "num = 2;\n",
    "console.log(\"We did it Reddit!\")"
   ]
  },
  {
   "cell_type": "markdown",
   "metadata": {},
   "source": [
    "### Bloques try y catch"
   ]
  },
  {
   "cell_type": "markdown",
   "metadata": {},
   "source": [
    "Lo que hizo JavaScript es *lanzar* (`throw`) un error a la consola.\n",
    "\n",
    "Para abordar correctamente este caso en el código, primero se *intenta* (`try`) el código\n",
    "y luego se *atrapa* (`catch`) el error lanzado, de ocurrir alguno."
   ]
  },
  {
   "cell_type": "code",
   "execution_count": null,
   "metadata": {},
   "outputs": [
    {
     "name": "stdout",
     "output_type": "stream",
     "text": [
      "You can't, it's a constant\n"
     ]
    }
   ],
   "source": [
    "const num: Number = 3; // Necesito TypeScript para que no se queje\n",
    "\n",
    "try {\n",
    "    num = 2;\n",
    "    console.log(\"We did it Reddit!\")\n",
    "} catch (e) {\n",
    "    console.log(\"You can't, it's a constant\")\n",
    "}"
   ]
  },
  {
   "cell_type": "markdown",
   "metadata": {},
   "source": [
    "Notar que `catch`, tiene `e` como argumento.\n",
    "\n",
    "En esta variable &ndash;que puede tener cualquier nombre&ndash; se guarda el valor que `throw` lanzó."
   ]
  },
  {
   "cell_type": "code",
   "execution_count": null,
   "metadata": {},
   "outputs": [
    {
     "name": "stdout",
     "output_type": "stream",
     "text": [
      "You made this tiny mistake >>>> TypeError: Assignment to constant variable.\n"
     ]
    }
   ],
   "source": [
    "const num: Number = 3; // Necesito TypeScript para que no se queje\n",
    "\n",
    "try {\n",
    "    num = 2;\n",
    "    console.log(\"We did it Reddit!\")\n",
    "} catch (mistake) {\n",
    "    console.log(`You made this tiny mistake >>>> ${mistake}`)\n",
    "}"
   ]
  },
  {
   "cell_type": "markdown",
   "metadata": {},
   "source": [
    "También es posible crear nuestro propio `throw` a partir de un condicional.\n",
    "\n",
    "> [!NOTE]\n",
    "> Sólo es posible lanzar objetos."
   ]
  },
  {
   "cell_type": "code",
   "execution_count": null,
   "metadata": {},
   "outputs": [
    {
     "name": "stdout",
     "output_type": "stream",
     "text": [
      "Larry didn't accept your gift, he said: I am alergic!.\n"
     ]
    }
   ],
   "source": [
    "const the_food: String = \"Palta\" // No quiero enfadar a TypeScript\n",
    "\n",
    "try {\n",
    "    if (the_food === \"Palta\") {\n",
    "        throw new String(\"I am alergic!.\")\n",
    "    }\n",
    "} catch (e) {\n",
    "    console.log(`Larry didn't accept your gift, he said: ${e}`)\n",
    "}"
   ]
  },
  {
   "cell_type": "markdown",
   "metadata": {},
   "source": [
    "> Notar que se lanzó un *objeto* string. Sólo es posible lanzar objetos."
   ]
  },
  {
   "cell_type": "markdown",
   "metadata": {},
   "source": [
    "### Bloque finally\n",
    "\n",
    "Se utiliza para terminar agraciadamente en caso de un error.\n",
    "\n",
    "> Si está presente, **siempre** se ejecuta."
   ]
  },
  {
   "cell_type": "markdown",
   "metadata": {},
   "source": [
    "* Caso 1: Nos lanzan un error."
   ]
  },
  {
   "cell_type": "code",
   "execution_count": null,
   "metadata": {},
   "outputs": [
    {
     "name": "stdout",
     "output_type": "stream",
     "text": [
      "No fives allowed here!\n",
      "Wrapping up\n",
      "The rest of the program.\n"
     ]
    }
   ],
   "source": [
    "const my_var: Number = 5 // No quiero enfadar a TypeScript\n",
    "\n",
    "try {\n",
    "    if (my_var == 5) {\n",
    "        throw new String(\"No fives allowed here!\")\n",
    "    }\n",
    "} catch (e) {\n",
    "    console.log(e.toString()) // Convert from object to string\n",
    "} finally {\n",
    "    console.log(\"Wrapping up\")\n",
    "}\n",
    "\n",
    "console.log(\"The rest of the program.\")"
   ]
  },
  {
   "cell_type": "markdown",
   "metadata": {},
   "source": [
    "* Caso 2: No nos lanzan un error."
   ]
  },
  {
   "cell_type": "code",
   "execution_count": null,
   "metadata": {},
   "outputs": [
    {
     "name": "stdout",
     "output_type": "stream",
     "text": [
      "Wrapping up\n",
      "The rest of the program.\n"
     ]
    }
   ],
   "source": [
    "const my_var: Number = 5 // No quiero enfadar a TypeScript\n",
    "\n",
    "try {\n",
    "    if (my_var != 5) {\n",
    "        throw new String(\"Only fives allowed here!\")\n",
    "    }\n",
    "} catch (e) {\n",
    "    console.log(e.toString()) // Convert from object to string\n",
    "} finally {\n",
    "    console.log(\"Wrapping up\")\n",
    "}\n",
    "\n",
    "console.log(\"The rest of the program.\")"
   ]
  },
  {
   "cell_type": "markdown",
   "metadata": {},
   "source": [
    "### Objetos error\n",
    "\n",
    "Es posible refinar con un nombre y mensaje las excepciones lanzadas."
   ]
  },
  {
   "cell_type": "markdown",
   "metadata": {},
   "source": [
    "#### Error()\n",
    "\n",
    "Permite construir excepciones propias con un mensaje personalizado."
   ]
  },
  {
   "cell_type": "code",
   "execution_count": null,
   "metadata": {},
   "outputs": [
    {
     "ename": "Error",
     "evalue": "Only fives allowed here!",
     "output_type": "error",
     "traceback": [
      "Stack trace:",
      "Error: Only fives allowed here!",
      "    at my_func2 (<anonymous>:8:11)",
      "    at my_func1 (<anonymous>:4:3)",
      "    at <anonymous>:11:1"
     ]
    }
   ],
   "source": [
    "const my_var: Number = 5 // No quiero enfadar a TypeScript\n",
    "\n",
    "function my_func1() {\n",
    "    my_func2()\n",
    "}\n",
    "\n",
    "function my_func2() {\n",
    "\n",
    "if (my_var == 5) {\n",
    "    throw new Error(\"Only fives allowed here!\")\n",
    "}\n",
    "\n",
    "}\n",
    "\n",
    "my_func1()"
   ]
  },
  {
   "cell_type": "markdown",
   "metadata": {},
   "source": [
    "Notar que se imprime la cadena de errores, siendo la última línea el nombre del archivo ejecutado (en este caso *\\<anonymus\\>* porque es un Jupyter Notebook)."
   ]
  },
  {
   "cell_type": "markdown",
   "metadata": {},
   "source": [
    "# Véase también\n",
    "\n",
    "* [Control flow and error handling &ndash; Mozilla Developers](https://developer.mozilla.org/en-US/docs/Web/JavaScript/Guide/Control_flow_and_error_handling)\n",
    "* [JavaScript error reference &ndash; Mozilla Developers](https://developer.mozilla.org/en-US/docs/Web/JavaScript/Reference/Errors)"
   ]
  }
 ],
 "metadata": {
  "kernelspec": {
   "display_name": "Deno",
   "language": "typescript",
   "name": "deno"
  },
  "language_info": {
   "codemirror_mode": "typescript",
   "file_extension": ".ts",
   "mimetype": "text/x.typescript",
   "name": "typescript",
   "nbconvert_exporter": "script",
   "pygments_lexer": "typescript",
   "version": "5.6.2"
  }
 },
 "nbformat": 4,
 "nbformat_minor": 2
}
