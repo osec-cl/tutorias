{
 "cells": [
  {
   "cell_type": "markdown",
   "metadata": {},
   "source": [
    "# Bucles e iteraciones"
   ]
  },
  {
   "cell_type": "markdown",
   "metadata": {},
   "source": [
    "# Palabras control\n",
    "\n",
    "Son utilizadas para manipular los ciclos dentro del bucle:\n",
    "\n",
    "* `break` &ndash; sale completamente del bucle.\n",
    "    * Útil si la condición de bucle siempre evalúa verdadero.\n",
    "* `continue` &ndash; sale de la iteración actual y entra a la siguiente."
   ]
  },
  {
   "cell_type": "markdown",
   "metadata": {},
   "source": [
    "## for\n",
    "\n",
    "Su sintaxis es similar a la de Java y C."
   ]
  },
  {
   "cell_type": "code",
   "execution_count": 8,
   "metadata": {},
   "outputs": [
    {
     "name": "stdout",
     "output_type": "stream",
     "text": [
      "0\n",
      "1\n",
      "2\n",
      "3\n",
      "4\n",
      "5\n",
      "6\n",
      "7\n",
      "8\n",
      "9\n"
     ]
    }
   ],
   "source": [
    "for (let i = 0; i < 10; i++) {\n",
    "    console.log(i)\n",
    "}"
   ]
  },
  {
   "cell_type": "markdown",
   "metadata": {},
   "source": [
    "* `let i = 0` &ndash; Inicializa la variable a chequear.\n",
    "* `i < 10` &ndash; establece la condición de término.\n",
    "* `i++` &ndash; incrementa el valor de la variable."
   ]
  },
  {
   "cell_type": "markdown",
   "metadata": {},
   "source": [
    "## for...in &ndash; llaves\n",
    "\n",
    "El iterador es cada índice o llave del objeto."
   ]
  },
  {
   "cell_type": "markdown",
   "metadata": {},
   "source": [
    "* **Ejemplo con Array**"
   ]
  },
  {
   "cell_type": "code",
   "execution_count": 9,
   "metadata": {},
   "outputs": [
    {
     "name": "stdout",
     "output_type": "stream",
     "text": [
      "0\n",
      "1\n",
      "2\n"
     ]
    }
   ],
   "source": [
    "const my_arr= [\"Palta\", \"Lechuga\", \"Tomate\"];\n",
    "\n",
    "for (const key in my_arr) {\n",
    "    console.log(key);\n",
    "}"
   ]
  },
  {
   "cell_type": "markdown",
   "metadata": {},
   "source": [
    "* **Ejemplo con Diccionario**"
   ]
  },
  {
   "cell_type": "code",
   "execution_count": 10,
   "metadata": {},
   "outputs": [
    {
     "name": "stdout",
     "output_type": "stream",
     "text": [
      "Palta\n",
      "Lechuga\n",
      "Tomate\n"
     ]
    }
   ],
   "source": [
    "const my_dic = { \"Palta\": 2, \"Lechuga\": 3, \"Tomate\": 5 };\n",
    "\n",
    "for (const key in my_dic) {\n",
    "    console.log(key)\n",
    "}"
   ]
  },
  {
   "cell_type": "markdown",
   "metadata": {},
   "source": [
    "* **Ejemplo con Interfaz**\n",
    "\n",
    "> Con una Clase es análogo."
   ]
  },
  {
   "cell_type": "code",
   "execution_count": 11,
   "metadata": {},
   "outputs": [
    {
     "name": "stdout",
     "output_type": "stream",
     "text": [
      "name\n",
      "age\n"
     ]
    }
   ],
   "source": [
    "interface Person {\n",
    "    name: string;\n",
    "    age: number;\n",
    "};\n",
    "\n",
    "let my_person = { name: \"John\", age: 27};\n",
    "\n",
    "for (const key in my_person) {\n",
    "    console.log(key);\n",
    "}"
   ]
  },
  {
   "cell_type": "markdown",
   "metadata": {},
   "source": [
    "## for...of &ndash; valores\n",
    "\n",
    "El iterador es cada valor del objeto."
   ]
  },
  {
   "cell_type": "markdown",
   "metadata": {},
   "source": [
    "* **Ejemplo con Array**"
   ]
  },
  {
   "cell_type": "code",
   "execution_count": 12,
   "metadata": {},
   "outputs": [
    {
     "name": "stdout",
     "output_type": "stream",
     "text": [
      "Palta\n",
      "Lechuga\n",
      "Tomate\n"
     ]
    }
   ],
   "source": [
    "const my_arr = [\"Palta\", \"Lechuga\", \"Tomate\"];\n",
    "\n",
    "for (const value of my_arr) {\n",
    "    console.log(value);\n",
    "}"
   ]
  },
  {
   "cell_type": "markdown",
   "metadata": {},
   "source": [
    "* **Ejemplo con Diccionario**\n",
    "\n",
    "> Los diccionarios no son iterables."
   ]
  },
  {
   "cell_type": "code",
   "execution_count": 14,
   "metadata": {},
   "outputs": [
    {
     "ename": "TypeError",
     "evalue": "my_dic is not iterable",
     "output_type": "error",
     "traceback": [
      "Stack trace:",
      "TypeError: my_dic is not iterable",
      "    at <anonymous>:6:21"
     ]
    }
   ],
   "source": [
    "const my_dic = { \"Palta\": 2, \"Lechuga\": 3, \"Tomate\": 5 };\n",
    "\n",
    "for (const value of my_dic) {\n",
    "    console.log(value)\n",
    "}"
   ]
  },
  {
   "cell_type": "markdown",
   "metadata": {},
   "source": [
    "* **Ejemplo con Interfaz**\n",
    "\n",
    "> Las clases no son iterables."
   ]
  },
  {
   "cell_type": "code",
   "execution_count": 15,
   "metadata": {},
   "outputs": [
    {
     "ename": "TypeError",
     "evalue": "my_person is not iterable",
     "output_type": "error",
     "traceback": [
      "Stack trace:",
      "TypeError: my_person is not iterable",
      "    at <anonymous>:5:21"
     ]
    }
   ],
   "source": [
    "interface Person {\n",
    "    name: string;\n",
    "    age: number;\n",
    "};\n",
    "\n",
    "let my_person = { name: \"John\", age: 27};\n",
    "\n",
    "for (const value of my_person) {\n",
    "    console.log(value);\n",
    "}"
   ]
  },
  {
   "cell_type": "markdown",
   "metadata": {},
   "source": [
    "## for...of &ndash; con métodos estáticos\n",
    "\n",
    "Con la ayuda de **Object.entries()** se obtienen los pares llave-valor."
   ]
  },
  {
   "cell_type": "markdown",
   "metadata": {},
   "source": [
    "* **Ejemplo con Array**"
   ]
  },
  {
   "cell_type": "code",
   "execution_count": 16,
   "metadata": {},
   "outputs": [
    {
     "name": "stdout",
     "output_type": "stream",
     "text": [
      "0 Palta\n",
      "1 Lechuga\n",
      "2 Tomate\n"
     ]
    }
   ],
   "source": [
    "const my_arr = [\"Palta\", \"Lechuga\", \"Tomate\"];\n",
    "\n",
    "for (const [key, value] of Object.entries(my_arr)) {\n",
    "    console.log(key, value);\n",
    "}"
   ]
  },
  {
   "cell_type": "markdown",
   "metadata": {},
   "source": [
    "* **Ejemplo con Diccionario**"
   ]
  },
  {
   "cell_type": "code",
   "execution_count": 17,
   "metadata": {},
   "outputs": [
    {
     "name": "stdout",
     "output_type": "stream",
     "text": [
      "Palta 2\n",
      "Lechuga 3\n",
      "Tomate 5\n"
     ]
    }
   ],
   "source": [
    "const my_dic = { \"Palta\": 2, \"Lechuga\": 3, \"Tomate\": 5 };\n",
    "\n",
    "for (const [key, value] of Object.entries(my_dic)) {\n",
    "    console.log(key, value);\n",
    "}"
   ]
  },
  {
   "cell_type": "markdown",
   "metadata": {},
   "source": [
    "* **Ejemplo con Interfaz**"
   ]
  },
  {
   "cell_type": "code",
   "execution_count": 18,
   "metadata": {},
   "outputs": [
    {
     "name": "stdout",
     "output_type": "stream",
     "text": [
      "name John\n",
      "age 27\n"
     ]
    }
   ],
   "source": [
    "interface Person {\n",
    "    name: string;\n",
    "    age: number;\n",
    "};\n",
    "\n",
    "let my_person = { name: \"John\", age: 27};\n",
    "\n",
    "for (const [key, value] of Object.entries(my_person)) {\n",
    "    console.log(key, value);\n",
    "}"
   ]
  },
  {
   "cell_type": "markdown",
   "metadata": {},
   "source": [
    "## while\n",
    "\n",
    "Su funcionamiento es idéntico al de `for`, con la excepción que la variable a evaluar se define antes de comenzar el bucle."
   ]
  },
  {
   "cell_type": "code",
   "execution_count": 1,
   "metadata": {},
   "outputs": [
    {
     "name": "stdout",
     "output_type": "stream",
     "text": [
      "0\n",
      "1\n",
      "2\n",
      "3\n",
      "4\n"
     ]
    },
    {
     "data": {
      "text/plain": [
       "\u001b[33m4\u001b[39m"
      ]
     },
     "execution_count": 1,
     "metadata": {},
     "output_type": "execute_result"
    }
   ],
   "source": [
    "let my_var = 0;\n",
    "\n",
    "while (my_var < 5) {\n",
    "    console.log(my_var);\n",
    "    my_var++;\n",
    "}"
   ]
  },
  {
   "cell_type": "markdown",
   "metadata": {},
   "source": [
    "Importante actualizar el valor de la variable dentro del bucle o nunca terminará."
   ]
  },
  {
   "cell_type": "markdown",
   "metadata": {},
   "source": [
    "## do...while\n",
    "\n",
    "Mismo funcionamiento que `while`, excepto que la primera iteración **siempre** se ejecutará."
   ]
  },
  {
   "cell_type": "code",
   "execution_count": 5,
   "metadata": {},
   "outputs": [
    {
     "name": "stdout",
     "output_type": "stream",
     "text": [
      "6\n"
     ]
    },
    {
     "data": {
      "text/plain": [
       "\u001b[33m6\u001b[39m"
      ]
     },
     "execution_count": 5,
     "metadata": {},
     "output_type": "execute_result"
    }
   ],
   "source": [
    "let my_var = 6;\n",
    "\n",
    "do {\n",
    "    console.log(my_var);\n",
    "    my_var++;\n",
    "} while (my_var < 5);"
   ]
  },
  {
   "cell_type": "markdown",
   "metadata": {},
   "source": [
    "# Véase también\n",
    "\n",
    "* Reference &ndash; Mozilla Developers\n",
    "    * [for](https://developer.mozilla.org/es/docs/Web/JavaScript/Reference/Statements/for)\n",
    "    * [for...in](https://developer.mozilla.org/en-US/docs/Web/JavaScript/Reference/Statements/for...in)\n",
    "    * [for...of](https://developer.mozilla.org/en-US/docs/Web/JavaScript/Reference/Statements/for...of)\n",
    "    * [Object.entries()](https://developer.mozilla.org/en-US/docs/Web/JavaScript/Reference/Global_Objects/Object/entries)\n",
    "    * [while](https://developer.mozilla.org/en-US/docs/Web/JavaScript/Reference/Statements/while)\n",
    "    * [do...while](https://developer.mozilla.org/en-US/docs/Web/JavaScript/Reference/Statements/do...while)\n",
    "\n",
    "* Guide &ndash; Mozilla Developers\n",
    "    * [Loops and Iteration](https://developer.mozilla.org/en-US/docs/Web/JavaScript/Guide/Loops_and_iteration)"
   ]
  }
 ],
 "metadata": {
  "kernelspec": {
   "display_name": "Deno",
   "language": "typescript",
   "name": "deno"
  },
  "language_info": {
   "codemirror_mode": "typescript",
   "file_extension": ".ts",
   "mimetype": "text/x.typescript",
   "name": "typescript",
   "nbconvert_exporter": "script",
   "pygments_lexer": "typescript",
   "version": "5.6.2"
  }
 },
 "nbformat": 4,
 "nbformat_minor": 2
}
