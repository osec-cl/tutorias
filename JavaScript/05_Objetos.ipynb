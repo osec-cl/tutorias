{
 "cells": [
  {
   "cell_type": "markdown",
   "metadata": {},
   "source": [
    "# Objetos\n",
    "\n",
    "La estructura de datos predominante en JavaScript son los objetos, estos pueden almacenar primitivos o más objetos en su interior."
   ]
  },
  {
   "cell_type": "markdown",
   "metadata": {},
   "source": [
    "## Conceptos\n",
    "\n",
    "JavaScript otorga un enfoque diferente al OOP que es importante comprender desde un principio."
   ]
  },
  {
   "cell_type": "markdown",
   "metadata": {},
   "source": [
    "### Class-based programación orientada a objeto\n",
    "\n",
    "Al igual que lenguajes como Java y Python, existe una sintaxis para definir clases y herencia."
   ]
  },
  {
   "cell_type": "markdown",
   "metadata": {},
   "source": [
    "* **Class**"
   ]
  },
  {
   "cell_type": "code",
   "execution_count": 1,
   "metadata": {},
   "outputs": [
    {
     "name": "stdout",
     "output_type": "stream",
     "text": [
      "Pepe\n",
      "1\n",
      "75\n",
      "Zzzzzz\n"
     ]
    }
   ],
   "source": [
    "class LivingBeen {\n",
    "    name;\n",
    "    height;\n",
    "    weight;\n",
    "\n",
    "    constructor(name, height, weight) {\n",
    "        this.name = name;\n",
    "        this.height = height;\n",
    "        this.weight = weight;\n",
    "    }\n",
    "\n",
    "    sleepAtNight() {\n",
    "        console.log(\"Zzzzzz\");\n",
    "    }\n",
    "}\n",
    "\n",
    "// Se crea una instancia de la clase\n",
    "const my_animal = new LivingBeen(\"Pepe\", 1, 75);\n",
    "\n",
    "console.log(my_animal.name);\n",
    "console.log(my_animal.height);\n",
    "console.log(my_animal.weight);\n",
    "my_animal.sleepAtNight();"
   ]
  },
  {
   "cell_type": "markdown",
   "metadata": {},
   "source": [
    "* **Inheritance**"
   ]
  },
  {
   "cell_type": "code",
   "execution_count": 2,
   "metadata": {},
   "outputs": [
    {
     "name": "stdout",
     "output_type": "stream",
     "text": [
      "Pepe\n",
      "1\n",
      "75\n",
      "Fish\n",
      "Birds\n",
      "Glugluglu\n"
     ]
    }
   ],
   "source": [
    "class Jurel extends LivingBeen {\n",
    "    kind;\n",
    "    hates;\n",
    "\n",
    "    constructor(name, height, weight, kind, hates) {\n",
    "        super(name, height, weight);\n",
    "        this.kind = kind;\n",
    "        this.hates = hates;\n",
    "    }\n",
    "\n",
    "    sleepAtNight() {\n",
    "        console.log(\"Glugluglu\");\n",
    "    }\n",
    "\n",
    "}\n",
    "\n",
    "// Se crea una instancia de la clase\n",
    "const my_jurel = new Jurel(\"Pepe\", 1, 75, \"Fish\", \"Birds\");\n",
    "\n",
    "console.log(my_jurel.name);\n",
    "console.log(my_jurel.height);\n",
    "console.log(my_jurel.weight);\n",
    "console.log(my_jurel.kind);\n",
    "console.log(my_jurel.hates);\n",
    "\n",
    "my_jurel.sleepAtNight();"
   ]
  },
  {
   "cell_type": "markdown",
   "metadata": {},
   "source": [
    "Si bien es una sintaxis válida, la definición de clases, herencias y métodos es **syntactic sugar**."
   ]
  },
  {
   "cell_type": "markdown",
   "metadata": {},
   "source": [
    "### Prototype-based programación orientada a objeto\n",
    "\n",
    "JavaScript tiene únicamente dos tipos de datos:\n",
    "\n",
    "1. Primitivos (Números, Strings, Bools, etc)\n",
    "2. Objetos\n",
    "\n",
    "Los siguientes son los fundamentos de este tipo de protoype-based OOP:\n",
    "\n",
    "1. Para construir un objeto se necesita un prototipo.\n",
    "2. Un prototipo es un objeto ya existente que se clona para crear uno nuevo.\n",
    "3. Cada objeto tiene una propiedad llamada `prototpye` que apunta a su prototipo.\n",
    "4. Todos los objetos están encadenados entre sí mediante su `protoype`.\n",
    "5. El primer prototipo (el que creamos) tiene como `prototype` a `null`.\n",
    "6. Si un método o propiedad no existe en un objeto, se busca en todos sus prototipos hasta encontarlo (o a `null`)."
   ]
  },
  {
   "cell_type": "markdown",
   "metadata": {},
   "source": [
    "A continuación se va a repetir el mismo ejemplo anterior, pero hecho con prototipos."
   ]
  },
  {
   "cell_type": "markdown",
   "metadata": {},
   "source": [
    "### Creación de prototype\n",
    "\n",
    "> Se define como `const` porque debe ser no-reasignable pero sí-mutable.\n",
    "\n",
    "> Aquí no existen métodos, la función es una propiedad más del protoype."
   ]
  },
  {
   "cell_type": "code",
   "execution_count": 3,
   "metadata": {},
   "outputs": [
    {
     "name": "stdout",
     "output_type": "stream",
     "text": [
      "Pepe\n",
      "Zzzzzz\n"
     ]
    },
    {
     "data": {
      "text/plain": [
       "[Object: null prototype] {}"
      ]
     },
     "execution_count": 3,
     "metadata": {},
     "output_type": "execute_result"
    }
   ],
   "source": [
    "const living_been = {\n",
    "    my_name: \"Pepe\", // TypeScript confunde `name` con una built-in deprecated property\n",
    "    my_height: 1,\n",
    "    my_weight: 75,\n",
    "    sleep_at_night() {\n",
    "        console.log(\"Zzzzzz\")\n",
    "    }\n",
    "}\n",
    "\n",
    "console.log(living_been.my_name);\n",
    "living_been.sleep_at_night();\n",
    "\n",
    "// Obtener su prototype\n",
    "Object.getPrototypeOf(living_been);"
   ]
  },
  {
   "cell_type": "markdown",
   "metadata": {},
   "source": [
    "Notamos que la declaración del objeto es instantánea y puede empezar a utilizarse enseguida."
   ]
  },
  {
   "cell_type": "markdown",
   "metadata": {},
   "source": [
    "### Definir el protoype de un objeto\n",
    "\n",
    "Existen dos formas de definir un objeto."
   ]
  },
  {
   "cell_type": "markdown",
   "metadata": {},
   "source": [
    "#### Con método estático\n",
    "\n",
    "Con la ayuda del método estático **Object.create()** se crea un nuevo objeto a partir de un prototipo."
   ]
  },
  {
   "cell_type": "code",
   "execution_count": 4,
   "metadata": {},
   "outputs": [
    {
     "name": "stdout",
     "output_type": "stream",
     "text": [
      "Pepe\n",
      "{\n",
      "  my_name: \"Pepe\",\n",
      "  my_height: 1,\n",
      "  my_weight: 75,\n",
      "  sleep_at_night: [Function: sleep_at_night]\n",
      "}\n",
      "Zzzzzz\n"
     ]
    }
   ],
   "source": [
    "const un_jurel = Object.create(living_been);\n",
    "\n",
    "console.log(un_jurel.my_name);\n",
    "console.log(Object.getPrototypeOf(un_jurel));\n",
    "un_jurel.sleep_at_night();"
   ]
  },
  {
   "cell_type": "markdown",
   "metadata": {},
   "source": [
    "Notar que el prototipo de `un_jurel` es `living_been` que definimos más arriba.\n",
    "\n",
    "**IMPORTANTE**\n",
    "\n",
    "La propiedad `sleep_at_night` (que guarda una función) no es heredada, al no encontrarla en el objeto actual procedió a buscarla en su prototipo. Esto se repetirá tantas veces sea necesario hasta llegar al prototipo `null` (para terminar en error) o a una propiedad existente en la cadena de prototipos.\n",
    "\n",
    "Es posible crear más propiedades para el objeto que no estén presentes en el prototipo.\n",
    "\n",
    "> Si una nueva propiedad en el objeto tiene el mismo nombre que una del prototipo, se dice que le *hace sombra* y al invocarla tiene precedencia por sobre la del prototipo."
   ]
  },
  {
   "cell_type": "code",
   "execution_count": 5,
   "metadata": {},
   "outputs": [
    {
     "name": "stdout",
     "output_type": "stream",
     "text": [
      "GluGluGlu\n",
      "0\n",
      "Eaten a bird!\n",
      "1\n"
     ]
    }
   ],
   "source": [
    "// La propiedad del objeto le hace sombra a la del prototipo\n",
    "un_jurel.sleep_at_night = new Function( console.log(\"GluGluGlu\") );\n",
    "un_jurel.sleep_at_night();\n",
    "\n",
    "// Estas propiedades no existen en el prototipo\n",
    "un_jurel.kill_count = 0;\n",
    "un_jurel.eat_bird = function(){\n",
    "    un_jurel.kill_count++;\n",
    "    console.log('Eaten a bird!');\n",
    "};\n",
    "\n",
    "console.log(un_jurel.kill_count);\n",
    "un_jurel.eat_bird();\n",
    "console.log(un_jurel.kill_count);"
   ]
  },
  {
   "cell_type": "markdown",
   "metadata": {},
   "source": [
    "#### Con constructor\n",
    "\n",
    "Se utiliza una función tradicional para construir el objeto."
   ]
  },
  {
   "cell_type": "code",
   "execution_count": 6,
   "metadata": {},
   "outputs": [
    {
     "name": "stdout",
     "output_type": "stream",
     "text": [
      "Antonio\n",
      "Zzzzzz\n",
      "Yummy! A bird!\n",
      "{ eat_bird: [Function (anonymous)] }\n",
      "Jumping over the water!\n",
      "{ eat_bird: [Function (anonymous)], jump: [Function (anonymous)] }\n"
     ]
    }
   ],
   "source": [
    "function another_living_been(name, height, weight) {\n",
    "    this.name = name;\n",
    "    this.height = height;\n",
    "    this.weight = weight;\n",
    "    // Así se define como parte de la función\n",
    "    this.sleep_at_night = () => console.log(\"Zzzzzz\");\n",
    "    // Así se define como parte de la propiedad protoype de la función\n",
    "    // another_living_been.prototype.sleep_at_night = () => console.log(\"Zzzzzz\");\n",
    "}\n",
    "\n",
    "// Así podemos tratar la función como prototype\n",
    "another_living_been.prototype.eat_bird = () => console.log(\"Yummy! A bird!\");\n",
    "\n",
    "const otro_jurel = new another_living_been(\"Antonio\", 0.5, 17);\n",
    "\n",
    "console.log(otro_jurel.name);\n",
    "otro_jurel.sleep_at_night();\n",
    "otro_jurel.eat_bird();\n",
    "\n",
    "// Sólo aparece lo definido en el prototype de la función\n",
    "console.log(Object.getPrototypeOf(otro_jurel));\n",
    "\n",
    "// Si cambia el prototype, los cambios se ramifican a sus objetos\n",
    "another_living_been.prototype.jump = () => console.log(\"Jumping over the water!\");\n",
    "otro_jurel.jump();\n",
    "console.log(Object.getPrototypeOf(otro_jurel));\n"
   ]
  },
  {
   "cell_type": "markdown",
   "metadata": {},
   "source": [
    "### Objetos literales\n",
    "\n",
    "En JavaScript no existen los diccionarios, sólo objetos literales.\n",
    "\n",
    "Además de llave-valor'es cuenta con propiedades, como la recién vista `protoype`, y puede manipularse como un objeto.\n",
    "\n",
    "> Se llaman literales porque no son variables con valores, sino los valores en sí.\n",
    "> \n",
    "> Por ejemplo un *String Literal* se define como\n",
    ">\n",
    "> ```1. \"Hello World\"```\n",
    ">\n",
    "> Sin anteponer una `var`, `let` ni `const`.\n",
    ">\n",
    "> Para el caso de los *Object Literals* hay ambiguedad de sintaxis con la apertura `{`, motivo por el que se antepone `const`.\n",
    ">\n",
    "> La noción de *literal* sólo cumple utilidad para el compilador."
   ]
  },
  {
   "cell_type": "code",
   "execution_count": 7,
   "metadata": {},
   "outputs": [
    {
     "name": "stdout",
     "output_type": "stream",
     "text": [
      "Algo\n",
      "Otro algo\n",
      "[Object: null prototype] {}\n",
      "Download a Car\n",
      "{ piracy: [Function: piracy] }\n"
     ]
    }
   ],
   "source": [
    "const my_obj = {\n",
    "    key_1: \"Algo\",\n",
    "    key_2: \"Otro algo\"\n",
    "};\n",
    "\n",
    "console.log(my_obj.key_1);\n",
    "console.log(my_obj.key_2);\n",
    "console.log(Object.getPrototypeOf(my_obj));\n",
    "\n",
    "const another_obj = {\n",
    "    piracy: () => \"Download a Car\"\n",
    "};\n",
    "\n",
    "Object.setPrototypeOf(my_obj, another_obj);\n",
    "\n",
    "console.log(my_obj.piracy());\n",
    "console.log(Object.getPrototypeOf(my_obj));"
   ]
  },
  {
   "cell_type": "markdown",
   "metadata": {},
   "source": [
    "## Manejo"
   ]
  },
  {
   "cell_type": "markdown",
   "metadata": {},
   "source": [
    "### Acceder a una propiedad"
   ]
  },
  {
   "cell_type": "markdown",
   "metadata": {},
   "source": [
    "* **Notación punto**\n",
    "\n",
    "Funcionamiento estándar de un objeto."
   ]
  },
  {
   "cell_type": "code",
   "execution_count": 8,
   "metadata": {},
   "outputs": [
    {
     "name": "stdout",
     "output_type": "stream",
     "text": [
      "Something\n"
     ]
    }
   ],
   "source": [
    "const the_object = { the_property: \"Something\" };\n",
    "\n",
    "console.log(the_object.the_property);"
   ]
  },
  {
   "cell_type": "markdown",
   "metadata": {},
   "source": [
    "* **Notación braket**\n",
    "\n",
    "Funcionamiento estándar de un diccionario.\n",
    "\n",
    "> Muy útil cuando se quiere dejar en una variable el nombre de la propiedad a extraer."
   ]
  },
  {
   "cell_type": "code",
   "execution_count": 9,
   "metadata": {},
   "outputs": [
    {
     "name": "stdout",
     "output_type": "stream",
     "text": [
      "Something\n"
     ]
    }
   ],
   "source": [
    "const the_object = { the_property: \"Something\" };\n",
    "\n",
    "const key = \"the_property\";\n",
    "console.log(the_object[key]);"
   ]
  },
  {
   "cell_type": "markdown",
   "metadata": {},
   "source": [
    "### Agregar una propiedad"
   ]
  },
  {
   "cell_type": "code",
   "execution_count": 10,
   "metadata": {},
   "outputs": [
    {
     "name": "stdout",
     "output_type": "stream",
     "text": [
      "{}\n",
      "{ a_thing: \"Something\" }\n"
     ]
    }
   ],
   "source": [
    "const the_object = {};\n",
    "console.log(the_object)\n",
    "\n",
    "the_object.a_thing = \"Something\";\n",
    "console.log(the_object);"
   ]
  },
  {
   "cell_type": "markdown",
   "metadata": {},
   "source": [
    "### Borrar una propiedad"
   ]
  },
  {
   "cell_type": "code",
   "execution_count": 11,
   "metadata": {},
   "outputs": [
    {
     "name": "stdout",
     "output_type": "stream",
     "text": [
      "{ the_property: \"Something\" }\n",
      "{}\n"
     ]
    }
   ],
   "source": [
    "const the_object = { the_property: \"Something\" };\n",
    "\n",
    "console.log(the_object);\n",
    "delete the_object.the_property;\n",
    "console.log(the_object);"
   ]
  },
  {
   "cell_type": "markdown",
   "metadata": {},
   "source": [
    "### Clonar un objeto\n",
    "\n",
    "La asignación `my_obj = that_obj` sólo copia la *referencia*, en otras palabras, mutar `my_obj` también mutará a `that_obj`.\n",
    "\n",
    "A continuación formas de clonar un objeto creando uno nuevo a partir del anterior."
   ]
  },
  {
   "cell_type": "markdown",
   "metadata": {},
   "source": [
    "* **Shallow copy**\n",
    "\n",
    "Sólo clona el objeto actual, cualquier otra estructura de datos anidada (e.g. Arrays) será referenciada y mutarla posteriormente mutará la original."
   ]
  },
  {
   "cell_type": "code",
   "execution_count": 12,
   "metadata": {},
   "outputs": [
    {
     "name": "stdout",
     "output_type": "stream",
     "text": [
      "I am the original\n",
      "I am the original\n",
      "I am the original\n"
     ]
    }
   ],
   "source": [
    "const original_obj = { mantra: \"I am the original\" };\n",
    "\n",
    "console.log(original_obj.mantra);\n",
    "\n",
    "// Shallow copy the right way\n",
    "const my_obj = { ...original_obj };\n",
    "my_obj.mantra = \"Live and let die\";\n",
    "\n",
    "console.log(original_obj.mantra);\n",
    "\n",
    "// Shallow copy the hacky way\n",
    "const my_second_obj = Object.assign( {}, original_obj );\n",
    "my_second_obj.mantra = \"Don't let the dogs out\";\n",
    "\n",
    "console.log(original_obj.mantra);"
   ]
  },
  {
   "cell_type": "markdown",
   "metadata": {},
   "source": [
    "* **Deep copy**\n",
    "\n",
    "Clona el objeto actual y todos los objetos o arrays anidados de forma recursiva.\n",
    "\n",
    "No tiene implementación nativa, requiere utilizar una biblioteca externa.\n",
    "\n",
    "> La interfaz `Window` presente en un Web Browser provee `Window.structuredClone()` para realizar una deep copy."
   ]
  },
  {
   "cell_type": "markdown",
   "metadata": {},
   "source": [
    "## JSON\n",
    "\n",
    "JavaScript Notation Object es un estándar de estructura de datos comunmente utilizado para transferir de forma ligera datos en sitios web.\n",
    "\n",
    "*Un objeto literal de JavaScript es un JSON válido*.\n",
    "\n",
    "> **IMPORTANTE**\n",
    ">\n",
    "> Una variante de JSON es un objeto literal dentro de un Array."
   ]
  },
  {
   "cell_type": "markdown",
   "metadata": {},
   "source": [
    "## Objetos globales\n",
    "\n",
    "Son parte del *global scope* de JavaScript, en otras palabras, pueden llamarse en cualquier parte del código.\n",
    "\n",
    "> Para una revisión extensiva de ellas se recomienda revisar la documentación enlazada al final de este capítulo."
   ]
  },
  {
   "cell_type": "markdown",
   "metadata": {},
   "source": [
    "# Véase también\n",
    "\n",
    "* Glosary &ndash; Mozilla Developers\n",
    "    * [Class](https://developer.mozilla.org/en-US/docs/Glossary/Class)\n",
    "    * [Literal](https://developer.mozilla.org/en-US/docs/Glossary/Literal)\n",
    "\n",
    "* Learn &ndash; Mozilla Developers\n",
    "    * [Objects](https://developer.mozilla.org/en-US/docs/Learn/JavaScript/Objects)\n",
    "    * [Objects/Basics](https://developer.mozilla.org/en-US/docs/Learn/JavaScript/Objects/Basics)\n",
    "    * [Objects/Prototypes](https://developer.mozilla.org/en-US/docs/Learn/JavaScript/Objects/Object_prototypes)\n",
    "    * [Objects/Classes](https://developer.mozilla.org/en-US/docs/Learn/JavaScript/Objects/Classes_in_JavaScript)\n",
    "    * [Objects/JSON](https://developer.mozilla.org/en-US/docs/Learn/JavaScript/Objects/JSON)\n",
    "\n",
    "* Reference/Global Objects &ndash; Mozilla Developers\n",
    "    * [Object](https://developer.mozilla.org/en-US/docs/Web/JavaScript/Reference/Global_Objects/Object)\n",
    "        * [Object.create()](https://developer.mozilla.org/en-US/docs/Web/JavaScript/Reference/Global_Objects/Object/create)\n",
    "        * [Object.entries()](https://developer.mozilla.org/en-US/docs/Web/JavaScript/Reference/Global_Objects/Object/entries)\n",
    "        * [Object.assign()](https://developer.mozilla.org/en-US/docs/Web/JavaScript/Reference/Global_Objects/Object/assign)\n",
    "        * [Object.getPrototypeOf](https://developer.mozilla.org/en-US/docs/Web/JavaScript/Reference/Global_Objects/Object/getPrototypeOf)\n",
    "        * [Object.setPrototypeOf](https://developer.mozilla.org/en-US/docs/Web/JavaScript/Reference/Global_Objects/Object/setPrototypeOf)\n",
    "    * [Function](https://developer.mozilla.org/en-US/docs/Web/JavaScript/Reference/Global_Objects/Function)\n",
    "    * [Boolean](https://developer.mozilla.org/en-US/docs/Web/JavaScript/Reference/Global_Objects/Boolean)\n",
    "\n",
    "* [JavaScript is a Prototype-based OOP](https://dev.to/efkumah/why-javascript-is-a-prototype-based-oop-4b4g)"
   ]
  }
 ],
 "metadata": {
  "kernelspec": {
   "display_name": "Deno",
   "language": "typescript",
   "name": "deno"
  },
  "language_info": {
   "codemirror_mode": "typescript",
   "file_extension": ".ts",
   "mimetype": "text/x.typescript",
   "name": "typescript",
   "nbconvert_exporter": "script",
   "pygments_lexer": "typescript",
   "version": "5.6.2"
  }
 },
 "nbformat": 4,
 "nbformat_minor": 2
}
