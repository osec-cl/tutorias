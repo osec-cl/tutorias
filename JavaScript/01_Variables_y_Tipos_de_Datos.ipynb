{
 "cells": [
  {
   "cell_type": "markdown",
   "metadata": {},
   "source": [
    "# Variables y Tipos de Datos\n",
    "\n",
    "Esta tutoría asume haber cursado Fundamentos/Introducción de la Programación, por lo que indagará sin rodeos en el contenido."
   ]
  },
  {
   "cell_type": "markdown",
   "metadata": {},
   "source": [
    "## Introducción"
   ]
  },
  {
   "cell_type": "markdown",
   "metadata": {},
   "source": [
    "### Comentarios"
   ]
  },
  {
   "cell_type": "markdown",
   "metadata": {},
   "source": [
    "Los comentarios se realizan prepending `//`:"
   ]
  },
  {
   "cell_type": "code",
   "execution_count": 1,
   "metadata": {},
   "outputs": [
    {
     "name": "stdout",
     "output_type": "stream",
     "text": [
      "Hello World\n"
     ]
    }
   ],
   "source": [
    "console.log(\"Hello World\");\n",
    "// console.log(\"Goodbye World\")"
   ]
  },
  {
   "cell_type": "markdown",
   "metadata": {},
   "source": [
    "Los comentarios se encierran entre `/*` y `*/`:"
   ]
  },
  {
   "cell_type": "code",
   "execution_count": 2,
   "metadata": {},
   "outputs": [
    {
     "name": "stdout",
     "output_type": "stream",
     "text": [
      "Hello World\n",
      "Oh well, I see you can't see that.\n"
     ]
    }
   ],
   "source": [
    "console.log(\"Hello World\");\n",
    "/*\n",
    "console.log(\"How are you?\");\n",
    "console.log(\"How are things going?\");\n",
    "*/\n",
    "console.log(\"Oh well, I see you can't see that.\");"
   ]
  },
  {
   "cell_type": "markdown",
   "metadata": {},
   "source": [
    "### Uso en el navegador de Internet"
   ]
  },
  {
   "cell_type": "markdown",
   "metadata": {},
   "source": [
    "Existen dos formas para agregar JavaScript a un sitio web:\n",
    "\n",
    "* Anidado en una etiqueta HTML:\n",
    "\n",
    "```HTML\n",
    "<script>\n",
    "  console.log(\"Hello World\");\n",
    "  console.log(\"Goodbye World\");\n",
    "</script>\n",
    "```\n",
    "\n",
    "* Como atributo source en una etiqueta HTML:\n",
    "\n",
    "```HTML\n",
    "<script src=\"path/to/file.js\">\n",
    "</script>\n",
    "```"
   ]
  },
  {
   "cell_type": "markdown",
   "metadata": {},
   "source": [
    "### Otras características del lenguaje\n",
    "\n",
    "Otras características de JavaScript son:\n",
    "\n",
    "* Es Case Sensitive.\n",
    "* Ignora los espacios e indentaciones.\n",
    "  * Esto se utilizan para volver más *human-readable*.\n",
    "* Utiliza `;` para reconocer el final de una línea.\n",
    "* Utiliza `{}` para separar separar bloques de código."
   ]
  },
  {
   "cell_type": "markdown",
   "metadata": {},
   "source": [
    "### Palabras reservadas\n",
    "\n",
    "Estas no se pueden utilizar como nombres de variables al tener un significado especial para el lenguaje, a continuación un listado de las más comunes.\n",
    "\n",
    "* Condicionales\n",
    "\n",
    "```Javascript\n",
    "if; else if; else;\n",
    "```\n",
    "\n",
    "* Por caso\n",
    "\n",
    "```Javascript\n",
    "switch; case; default;\n",
    "```\n",
    "\n",
    "* Bucles\n",
    "\n",
    "```Javascript\n",
    "for; while; break; continue; do /* (para while) */;\n",
    "```\n",
    "\n",
    "* Variables\n",
    "\n",
    "```Javascript\n",
    "var; let; const;\n",
    "```\n",
    "\n",
    "* OOP &ndash; Alcance\n",
    "\n",
    "```Javascript\n",
    "static; public; private; protected;\n",
    "```\n",
    "\n",
    "* OOP &ndash; Herencia\n",
    "\n",
    "```Javascript\n",
    "class; this; extends; super;\n",
    "```\n",
    "\n",
    "* OOP &ndash; Instancias\n",
    "\n",
    "```Javascript\n",
    "new; instanceof;\n",
    "```\n",
    "\n",
    "* Tipos de datos\n",
    "\n",
    "```Javascript\n",
    "typeof; byte; void; null; enum;\n",
    "```\n",
    "\n",
    "* Tipos de datos &ndash; Booleanos\n",
    "\n",
    "```Javascript\n",
    "boolean; true; false;\n",
    "```\n",
    "\n",
    "* Tipos de datos &ndash; Números\n",
    "\n",
    "```Javascript\n",
    "int; short; long; float;\n",
    "```\n",
    "\n",
    "* Tipos de datos &ndash; Texto\n",
    "\n",
    "```Javascript\n",
    "char; double;\n",
    "```\n",
    "\n",
    "* Funciones\n",
    "\n",
    "```Javascript\n",
    "import; export; function; return;\n",
    "await; async;\n",
    "try; catch; finally; throw /* new Error() */\n",
    "```"
   ]
  },
  {
   "cell_type": "markdown",
   "metadata": {},
   "source": [
    "## Variables\n",
    "\n",
    "```Javascript\n",
    "// Variables solo declaradas:\n",
    "var nombre;  // Recuerda el punto y coma ;\n",
    "let nombre;\n",
    "const nombre;\n",
    "\n",
    "// Variables declaradas e inicializadas (valor inicial)\n",
    "var nombre = valor;\n",
    "let nombre = valor;  // Ojo que el símbolo = es SOLO de asignación, NUNCA de comparación\n",
    "const nombre = valor;\n",
    "```\n",
    "\n",
    "Puntos importantes a destacar:\n",
    "\n",
    "* **var** &ndash; sólo existe para retro-compatibilidad y no se utiliza para programar.\n",
    "  * Definir una variable la deja [hoisted](https://developer.mozilla.org/en-US/docs/Web/JavaScript/Guide/Grammar_and_types#variable_hoisting).\n",
    "  * Pueden retornar `undefined`, lo que genera errores.\n",
    "\n",
    "* **let** &ndash; se utiliza en la mayoría de los casos.\n",
    "  * Controla el scope y es reasignable.\n",
    "\n",
    "* **const** &ndash; no se puede reasignar, pero *su valor sí puede mutar*.\n",
    "  * Es mutable al aplicarle métodos o reasignar sus propiedades.\n",
    "  * Es seguro frente a coerciones implícitas y reasignaciones."
   ]
  },
  {
   "cell_type": "markdown",
   "metadata": {},
   "source": [
    "### Caracteres prohibidos\n",
    "\n",
    "Un nombre de variable no puede contener:\n",
    "\n",
    "  * Espacios.\n",
    "  * Letras que no sean ASCII."
   ]
  },
  {
   "cell_type": "markdown",
   "metadata": {},
   "source": [
    "### Tipos de datos\n",
    "\n",
    "El valor de una variable puede clasificarse como:\n",
    "\n",
    "* Primitivo &ndash; Number\n",
    "  * Todos los números son tratados como `float`.\n",
    "  * Tanto \"`int`\" como \"`float`\" son operables entre sí.\n",
    "\n",
    "* Primitivo &ndash; String\n",
    "  * `\"Texto\"` i.e. comillas dobles (quotes).\n",
    "  * `'Text'` i.e. comillas simples (single quotes).\n",
    "  * ``` `Text` ``` i.e. backticks.\n",
    "\n",
    "* Primitivo &ndash; Boolean\n",
    "  * `true`\n",
    "  * Valores que se evalúan como falso ([Falsy](https://developer.mozilla.org/en-US/docs/Glossary/Falsy))\n",
    "    * `null`\n",
    "    * `undefined`\n",
    "    * `false` &ndash; el boolean original\n",
    "    * `NaN`\n",
    "    * `0`\n",
    "    * `-0`\n",
    "    * `0n`\n",
    "    * `\"\"`\n",
    "    * `document.all`"
   ]
  },
  {
   "cell_type": "markdown",
   "metadata": {},
   "source": [
    "## Operaciones\n",
    "\n",
    "> Se presentan situaciones triviales para acercar de forma gradual el lenguaje."
   ]
  },
  {
   "cell_type": "markdown",
   "metadata": {},
   "source": [
    "### Números"
   ]
  },
  {
   "cell_type": "markdown",
   "metadata": {},
   "source": [
    "* Suma"
   ]
  },
  {
   "cell_type": "code",
   "execution_count": 3,
   "metadata": {},
   "outputs": [
    {
     "name": "stdout",
     "output_type": "stream",
     "text": [
      "5\n"
     ]
    }
   ],
   "source": [
    "let suma = 3;\n",
    "const num = 2;\n",
    "suma = suma + num;\n",
    "\n",
    "console.log(suma)"
   ]
  },
  {
   "cell_type": "markdown",
   "metadata": {},
   "source": [
    "* Resta"
   ]
  },
  {
   "cell_type": "code",
   "execution_count": 4,
   "metadata": {},
   "outputs": [
    {
     "name": "stdout",
     "output_type": "stream",
     "text": [
      "1\n"
     ]
    }
   ],
   "source": [
    "let resta = 3;\n",
    "const num = 2;\n",
    "resta = resta - num;\n",
    "\n",
    "console.log(resta);"
   ]
  },
  {
   "cell_type": "markdown",
   "metadata": {},
   "source": [
    "* Multiplicación"
   ]
  },
  {
   "cell_type": "code",
   "execution_count": 5,
   "metadata": {},
   "outputs": [
    {
     "name": "stdout",
     "output_type": "stream",
     "text": [
      "6\n"
     ]
    }
   ],
   "source": [
    "let mult = 3;\n",
    "const num = 2;\n",
    "mult = mult * num;\n",
    "\n",
    "console.log(mult);"
   ]
  },
  {
   "cell_type": "markdown",
   "metadata": {},
   "source": [
    "* División"
   ]
  },
  {
   "cell_type": "code",
   "execution_count": 6,
   "metadata": {},
   "outputs": [
    {
     "name": "stdout",
     "output_type": "stream",
     "text": [
      "1.5\n"
     ]
    }
   ],
   "source": [
    "let div = 3;\n",
    "const num = 2;\n",
    "div = div / num;\n",
    "\n",
    "console.log(div);"
   ]
  },
  {
   "cell_type": "markdown",
   "metadata": {},
   "source": [
    "* Módulo"
   ]
  },
  {
   "cell_type": "code",
   "execution_count": 7,
   "metadata": {},
   "outputs": [
    {
     "name": "stdout",
     "output_type": "stream",
     "text": [
      "2\n"
     ]
    }
   ],
   "source": [
    "let mod = 7;\n",
    "const num = 5;\n",
    "mod = mod % num;\n",
    "\n",
    "console.log(mod);"
   ]
  },
  {
   "cell_type": "markdown",
   "metadata": {},
   "source": [
    "### Strings"
   ]
  },
  {
   "cell_type": "markdown",
   "metadata": {},
   "source": [
    "* Concatenación"
   ]
  },
  {
   "cell_type": "code",
   "execution_count": 8,
   "metadata": {},
   "outputs": [
    {
     "name": "stdout",
     "output_type": "stream",
     "text": [
      "Hello World\n"
     ]
    }
   ],
   "source": [
    "const firstWord = \"Hello\";\n",
    "const separator = \" \";\n",
    "const secondWord = \"World\"\n",
    "\n",
    "const fullWord = firstWord+separator+secondWord;\n",
    "console.log(fullWord);"
   ]
  },
  {
   "cell_type": "markdown",
   "metadata": {},
   "source": [
    "* Interpolación"
   ]
  },
  {
   "cell_type": "code",
   "execution_count": 9,
   "metadata": {},
   "outputs": [
    {
     "name": "stdout",
     "output_type": "stream",
     "text": [
      "The number 1 plus 2 equals 3\n"
     ]
    }
   ],
   "source": [
    "const firstNumber = 1;\n",
    "const secondNumber = 2;\n",
    "\n",
    "console.log(`The number ${firstNumber} plus ${secondNumber} equals ${firstNumber+secondNumber}`);"
   ]
  },
  {
   "cell_type": "markdown",
   "metadata": {},
   "source": [
    "### Comparación"
   ]
  },
  {
   "cell_type": "markdown",
   "metadata": {},
   "source": [
    "* (Des)igualdad sin diferencia de tipos"
   ]
  },
  {
   "cell_type": "code",
   "execution_count": 10,
   "metadata": {},
   "outputs": [
    {
     "name": "stdout",
     "output_type": "stream",
     "text": [
      "true\n",
      "false\n"
     ]
    }
   ],
   "source": [
    "const myString = \"2\";\n",
    "const myNumber = 2;\n",
    "\n",
    "console.log(myString == myNumber);\n",
    "console.log(myString != myNumber);"
   ]
  },
  {
   "cell_type": "markdown",
   "metadata": {},
   "source": [
    "* (Des)igualdad con diferencia de tipos"
   ]
  },
  {
   "cell_type": "code",
   "execution_count": 11,
   "metadata": {},
   "outputs": [
    {
     "name": "stdout",
     "output_type": "stream",
     "text": [
      "false\n",
      "true\n"
     ]
    }
   ],
   "source": [
    "const myString = \"2\";\n",
    "const myNumber = 2;\n",
    "\n",
    "console.log(myString === myNumber);\n",
    "console.log(myString !== myNumber);"
   ]
  },
  {
   "cell_type": "markdown",
   "metadata": {},
   "source": [
    "> Los operadores `>`, `<`, `>=` y `<=` se comportan de la forma tradicional."
   ]
  },
  {
   "cell_type": "markdown",
   "metadata": {},
   "source": [
    "### Booleanos"
   ]
  },
  {
   "cell_type": "markdown",
   "metadata": {},
   "source": [
    "* Conjunción ($A \\lor B$)"
   ]
  },
  {
   "cell_type": "code",
   "execution_count": 12,
   "metadata": {},
   "outputs": [
    {
     "name": "stdout",
     "output_type": "stream",
     "text": [
      "true\n"
     ]
    }
   ],
   "source": [
    "const myBoolOne = true;\n",
    "const MuBoolTwo = false;\n",
    "\n",
    "console.log(myBoolOne || myBoolTwo)"
   ]
  },
  {
   "cell_type": "markdown",
   "metadata": {},
   "source": [
    "* Unión ($A \\land B$)"
   ]
  },
  {
   "cell_type": "code",
   "execution_count": 13,
   "metadata": {},
   "outputs": [
    {
     "name": "stdout",
     "output_type": "stream",
     "text": [
      "false\n"
     ]
    }
   ],
   "source": [
    "const myBoolOne = true;\n",
    "const myBoolTwo = false;\n",
    "\n",
    "console.log(myBoolOne && myBoolTwo)"
   ]
  },
  {
   "cell_type": "markdown",
   "metadata": {},
   "source": [
    "* Negación ($¬A$)"
   ]
  },
  {
   "cell_type": "code",
   "execution_count": 14,
   "metadata": {},
   "outputs": [
    {
     "name": "stdout",
     "output_type": "stream",
     "text": [
      "true\n"
     ]
    }
   ],
   "source": [
    "const myBoolOne = true;\n",
    "const myBoolTwo = false;\n",
    "\n",
    "console.log(myBoolOne && !myBoolTwo)"
   ]
  },
  {
   "cell_type": "markdown",
   "metadata": {},
   "source": [
    "## Entrada y Salida"
   ]
  },
  {
   "cell_type": "markdown",
   "metadata": {},
   "source": [
    "* Imprime en la consola"
   ]
  },
  {
   "cell_type": "code",
   "execution_count": 15,
   "metadata": {},
   "outputs": [
    {
     "name": "stdout",
     "output_type": "stream",
     "text": [
      "Esto se imprime en la consola\n"
     ]
    }
   ],
   "source": [
    "console.log(\"Esto se imprime en la consola\")"
   ]
  },
  {
   "cell_type": "markdown",
   "metadata": {},
   "source": [
    "* Abre un cuadro de diálogo frente al sitio web"
   ]
  },
  {
   "cell_type": "code",
   "execution_count": 16,
   "metadata": {},
   "outputs": [],
   "source": [
    "alert(\"YOUR PRINTER IS ON FIRE\")"
   ]
  },
  {
   "cell_type": "markdown",
   "metadata": {},
   "source": [
    "* Espera hasta recibir un input\n",
    "\n",
    "```Javascript\n",
    "prompt(\"Insert password >\")\n",
    "```"
   ]
  },
  {
   "cell_type": "markdown",
   "metadata": {},
   "source": [
    "## Control de tipado dinámico"
   ]
  },
  {
   "cell_type": "markdown",
   "metadata": {},
   "source": [
    "* **parseInt()** &ndash; extrae el primer match que sea un `int`:\n",
    "\n",
    "> Si no es posible realizar la conversión se retorna `NaN`."
   ]
  },
  {
   "cell_type": "code",
   "execution_count": 17,
   "metadata": {},
   "outputs": [
    {
     "name": "stdout",
     "output_type": "stream",
     "text": [
      "1234\n",
      "NaN\n"
     ]
    }
   ],
   "source": [
    "const myConst1 = \"1234fghi567\";\n",
    "const myConst2 = \"abcd6789jkl\";\n",
    "\n",
    "console.log(parseInt(myConst1));\n",
    "console.log(parseInt(myConst2));"
   ]
  },
  {
   "cell_type": "markdown",
   "metadata": {},
   "source": [
    "* **parseFloat()** &ndash; extrae el primer match que sea un `int`:\n",
    "\n",
    "> Si no es posible realizar la conversión se retorna `NaN`."
   ]
  },
  {
   "cell_type": "code",
   "execution_count": 18,
   "metadata": {},
   "outputs": [
    {
     "name": "stdout",
     "output_type": "stream",
     "text": [
      "12.34\n",
      "NaN\n",
      "3.14\n",
      "3.14\n",
      "3.14\n"
     ]
    }
   ],
   "source": [
    "const myConst1 = \"12.34efg.hij56.78\"\n",
    "const myConst2 = \"abcd45.67hij\"\n",
    "\n",
    "console.log(parseFloat(myConst1))\n",
    "console.log(parseFloat(myConst2))\n",
    "\n",
    "// Algunos ejemplos más exóticos\n",
    "console.log(parseFloat(\"3.14\"));      // 3.14\n",
    "console.log(parseFloat(\"314e-2\"));    // 3.14\n",
    "console.log(parseFloat(\"0.0314E+2\")); // 3.14"
   ]
  },
  {
   "cell_type": "markdown",
   "metadata": {},
   "source": [
    "* **Number()** &ndash; constructor que crea objetos de tipos *number* (`float`s e `int`s):"
   ]
  },
  {
   "cell_type": "code",
   "execution_count": 19,
   "metadata": {},
   "outputs": [
    {
     "name": "stdout",
     "output_type": "stream",
     "text": [
      "Extrae números de strings\n",
      "12\n",
      "1.2\n",
      "255\n"
     ]
    }
   ],
   "source": [
    "console.log(\"Extrae números de strings\");\n",
    "console.log(Number(\"12\")); // Int\n",
    "console.log(Number(\"1.2\")); // Float\n",
    "console.log(Number(\"0xff\")); // Hexadecimal"
   ]
  },
  {
   "cell_type": "code",
   "execution_count": null,
   "metadata": {},
   "outputs": [
    {
     "name": "stdout",
     "output_type": "stream",
     "text": [
      "Extrae ceros de representaciones de nada\n",
      "0\n",
      "0\n",
      "0\n"
     ]
    }
   ],
   "source": [
    "console.log(\"Extrae ceros de representaciones de la nada\");\n",
    "console.log(Number(\"\")); // Vacío\n",
    "console.log(Number(\"        \")); // Espacio\n",
    "console.log(Number(null)) // Inválido"
   ]
  },
  {
   "cell_type": "code",
   "execution_count": 21,
   "metadata": {},
   "outputs": [
    {
     "name": "stdout",
     "output_type": "stream",
     "text": [
      "Representa booleans como 0's y 1's\n",
      "1\n",
      "0\n",
      "1\n",
      "0\n"
     ]
    }
   ],
   "source": [
    "console.log(\"Representa booleans como 0's y 1's\")\n",
    "console.log(Number( true ));\n",
    "console.log(Number( false ));\n",
    "console.log(Number( (1<2) ));\n",
    "console.log(Number( (1===2) ));"
   ]
  },
  {
   "cell_type": "code",
   "execution_count": 23,
   "metadata": {},
   "outputs": [
    {
     "name": "stdout",
     "output_type": "stream",
     "text": [
      "Convierte fechas a tiempo UNIX\n",
      "1733320334932\n"
     ]
    }
   ],
   "source": [
    "console.log(\"Convierte fechas a tiempo UNIX\")\n",
    "console.log( Number(new Date()) );"
   ]
  },
  {
   "cell_type": "markdown",
   "metadata": {},
   "source": [
    "* **String()** &ndash; constructor que crea objetos de tipo `string`:"
   ]
  },
  {
   "cell_type": "code",
   "execution_count": 24,
   "metadata": {},
   "outputs": [
    {
     "name": "stdout",
     "output_type": "stream",
     "text": [
      "string\n",
      "string\n",
      "string\n",
      "object\n"
     ]
    }
   ],
   "source": [
    "const strPrim = \"foo\"; // A literal is a string primitive\n",
    "const strPrim2 = String(1); // Coerced into the string primitive \"1\"\n",
    "const strPrim3 = String(true); // Coerced into the string primitive \"true\"\n",
    "const strObj = new String(strPrim); // String with new returns a string wrapper object.\n",
    "\n",
    "console.log(typeof strPrim); // \"string\"\n",
    "console.log(typeof strPrim2); // \"string\"\n",
    "console.log(typeof strPrim3); // \"string\"\n",
    "console.log(typeof strObj); // \"object\""
   ]
  },
  {
   "cell_type": "markdown",
   "metadata": {},
   "source": [
    "# Véase también\n",
    "\n",
    "* [Blogspot &ndash; funciones parseInt(), parseFloat(), Number()](https://notasjs.blogspot.com/2013/06/funciones-parseint-parsefloat-number-y.html)\n",
    "* [Mozilla Developers &ndash; String primitives and String objects](https://developer.mozilla.org/en-US/docs/Web/JavaScript/Reference/Global_Objects/String#string_primitives_and_string_objects)"
   ]
  }
 ],
 "metadata": {
  "kernelspec": {
   "display_name": "Deno",
   "language": "typescript",
   "name": "deno"
  },
  "language_info": {
   "codemirror_mode": "typescript",
   "file_extension": ".ts",
   "mimetype": "text/x.typescript",
   "name": "typescript",
   "nbconvert_exporter": "script",
   "pygments_lexer": "typescript",
   "version": "5.6.2"
  }
 },
 "nbformat": 4,
 "nbformat_minor": 2
}
