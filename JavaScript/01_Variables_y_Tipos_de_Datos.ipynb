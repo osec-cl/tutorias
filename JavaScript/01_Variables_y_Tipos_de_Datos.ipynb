{
 "cells": [
  {
   "cell_type": "markdown",
   "metadata": {},
   "source": [
    "# Variables y Tipos de Datos\n",
    "\n",
    "En este primer capítulo se introducen los elementos básicos para poder programar lógica en JavaScript."
   ]
  },
  {
   "cell_type": "markdown",
   "metadata": {},
   "source": [
    "## Introducción"
   ]
  },
  {
   "cell_type": "markdown",
   "metadata": {},
   "source": [
    "## Característica generales\n",
    "\n",
    "* Es Case Sensitive.\n",
    "* Ignora los espacios e indentaciones.\n",
    "  * Esto se utilizan para volver más *human-readable*.\n",
    "* Utiliza `;` para reconocer el final de una línea.\n",
    "* Utiliza `{}` para separar separar bloques de código.\n",
    "\n",
    "> Nota: Si esta sintaxis no se respeta durante la guía, es porque los bloques de código utlizan el intérprete TypeScript que corrige estos detalles."
   ]
  },
  {
   "cell_type": "markdown",
   "metadata": {},
   "source": [
    "## Comentarios"
   ]
  },
  {
   "cell_type": "markdown",
   "metadata": {},
   "source": [
    "Los comentarios se realizan prepending `//`:"
   ]
  },
  {
   "cell_type": "code",
   "execution_count": 1,
   "metadata": {},
   "outputs": [
    {
     "name": "stdout",
     "output_type": "stream",
     "text": [
      "Hello World\n"
     ]
    }
   ],
   "source": [
    "console.log(\"Hello World\");\n",
    "// console.log(\"Goodbye World\")"
   ]
  },
  {
   "cell_type": "markdown",
   "metadata": {},
   "source": [
    "Los comentarios se encierran entre `/*` y `*/`:"
   ]
  },
  {
   "cell_type": "code",
   "execution_count": 2,
   "metadata": {},
   "outputs": [
    {
     "name": "stdout",
     "output_type": "stream",
     "text": [
      "Hello World\n",
      "Oh well, I see you can't see that.\n"
     ]
    }
   ],
   "source": [
    "console.log(\"Hello World\");\n",
    "/*\n",
    "console.log(\"How are you?\");\n",
    "console.log(\"How are things going?\");\n",
    "*/\n",
    "console.log(\"Oh well, I see you can't see that.\");"
   ]
  },
  {
   "cell_type": "markdown",
   "metadata": {},
   "source": [
    "## Declaraciones\n",
    "\n",
    "Existen tres formas de declarar variables."
   ]
  },
  {
   "cell_type": "markdown",
   "metadata": {},
   "source": [
    "* **var**\n",
    "\n",
    "Declara una variable, opcionalmente inicializando su valor.\n",
    "\n",
    "> **No utilizar,** preferir *let*.\n",
    ">\n",
    "> Esta declaración tiene [hoisting](https://developer.mozilla.org/en-US/docs/Glossary/Hoisting), en otras palabras, el intérprete vuelve disponible la variable antes de su inicialización y referencia en el código.\n",
    ">\n",
    "> Una variable utilizada antes de ser inicializada retorna `undefined`, el cual es un [Falsy](https://developer.mozilla.org/en-US/docs/Glossary/Falsy) y puede ser evaluado como false."
   ]
  },
  {
   "cell_type": "code",
   "execution_count": null,
   "metadata": {},
   "outputs": [],
   "source": [
    "// Variable declarada e inicializada.\n",
    "var my_var = 5;\n",
    "\n",
    "// Variable declarada, pero no inicialiada\n",
    "var my_uninit_var = \"Lo and behold\";"
   ]
  },
  {
   "cell_type": "markdown",
   "metadata": {},
   "source": [
    "* **let**\n",
    "\n",
    "Declara una variable re-declarable, opcionalmente inicializando su valor.\n",
    "\n",
    "> **Siempre** preferir por sobre *var*.\n",
    ">\n",
    "> Una variable utilizada antes de ser inicializada retorna `undefined`, el cual es un [Falsy](https://developer.mozilla.org/en-US/docs/Glossary/Falsy) y puede ser evaluado como false."
   ]
  },
  {
   "cell_type": "code",
   "execution_count": 3,
   "metadata": {},
   "outputs": [],
   "source": [
    "// Variable declarada e inicializada.\n",
    "let my_var = 5;\n",
    "\n",
    "// Variable declarada, pero no inicializada.\n",
    "let my_uninit_var = \"Lo and behold\""
   ]
  },
  {
   "cell_type": "markdown",
   "metadata": {},
   "source": [
    "* **const**\n",
    "\n",
    "Declara e inicializa una variable que no puede volver a ser declarada. No obstante, su contenido puede ser mutado.\n",
    "\n",
    "> Declaración preferida para objetos y arrays que no deben reemplazarse pero sí mutar.\n",
    ">\n",
    "> Siempre debe ser inicializada."
   ]
  },
  {
   "cell_type": "code",
   "execution_count": 2,
   "metadata": {},
   "outputs": [],
   "source": [
    "// Variable declarada e inicializada.\n",
    "const my_const = 5;"
   ]
  },
  {
   "cell_type": "code",
   "execution_count": 4,
   "metadata": {},
   "outputs": [
    {
     "ename": "SyntaxError",
     "evalue": "Missing initializer in const declaration",
     "output_type": "error",
     "traceback": [
      "Stack trace:",
      "SyntaxError: Missing initializer in const declaration"
     ]
    }
   ],
   "source": [
    "// Variable declarada, pero no inicializada.\n",
    "const my_uninit_const;"
   ]
  },
  {
   "cell_type": "code",
   "execution_count": 2,
   "metadata": {},
   "outputs": [
    {
     "name": "stdout",
     "output_type": "stream",
     "text": [
      "Value\n",
      "Other value\n"
     ]
    }
   ],
   "source": [
    "// Variable declarada y posteriormente mutada.\n",
    "const my_mutable_const = { key: \"Value\" };\n",
    "console.log(my_mutable_const.key);\n",
    "\n",
    "my_mutable_const.key = \"Other value\";\n",
    "console.log(my_mutable_const.key)"
   ]
  },
  {
   "cell_type": "markdown",
   "metadata": {},
   "source": [
    "## Scope\n",
    "\n",
    "Una variable puede tener 4 niveles de alcance, a continuación listados desde los más exteriores a los más interiores."
   ]
  },
  {
   "cell_type": "markdown",
   "metadata": {},
   "source": [
    "* **Global**\n",
    "\n",
    "Variable disponible para todo el archivo actual."
   ]
  },
  {
   "cell_type": "markdown",
   "metadata": {},
   "source": [
    "* **Modulo**\n",
    "\n",
    "Variable presente en otro archivo y que debe ser importada explícitamente al archivo actual."
   ]
  },
  {
   "cell_type": "markdown",
   "metadata": {},
   "source": [
    "* **Function**\n",
    "\n",
    "Variable presente dentro del `{`, `}` de una función y que no puede utilizarse fuera."
   ]
  },
  {
   "cell_type": "markdown",
   "metadata": {},
   "source": [
    "* **Block**\n",
    "\n",
    "Variable disponible entre `{`, `}` *no pertenecientes a una función*.\n",
    "\n",
    "> No tiene efectos para *var*."
   ]
  },
  {
   "cell_type": "markdown",
   "metadata": {},
   "source": [
    "## Tipos\n",
    "\n",
    "La especificación de JavaScript define 8 tipos de datos, a continuación sólo se listan los más comunes."
   ]
  },
  {
   "cell_type": "markdown",
   "metadata": {},
   "source": [
    "### Primitivos\n",
    "\n",
    "Datos que no son objetos y, en consecuencia, no tienen métodos ni propiedades."
   ]
  },
  {
   "cell_type": "markdown",
   "metadata": {},
   "source": [
    "* **Boolean**\n",
    "\n",
    "  * `true`\n",
    "  * `false`\n",
    "\n",
    "> Mediante *coerción de tipos* los siguientes también evalúan como `false`.\n",
    ">  * `null`\n",
    ">  * `undefined`\n",
    ">  * `NaN`\n",
    ">  * `0`\n",
    ">  * `-0`\n",
    ">  * `0n`\n",
    ">  * `\"\"`\n",
    ">  * `document.all`\n",
    ">\n",
    "> A estos se les conoce como [Falsy](https://developer.mozilla.org/en-US/docs/Glossary/Falsy) y no manejarlos correctamente es fuente de errores."
   ]
  },
  {
   "cell_type": "code",
   "execution_count": 2,
   "metadata": {},
   "outputs": [
    {
     "name": "stdout",
     "output_type": "stream",
     "text": [
      "boolean\n",
      "boolean\n",
      "boolean\n",
      "boolean\n"
     ]
    }
   ],
   "source": [
    "// Booleans\n",
    "console.log(typeof false);\n",
    "console.log(typeof true);\n",
    "\n",
    "// Falsy bajo coerción\n",
    "console.log(typeof !undefined);\n",
    "console.log(typeof Boolean(NaN));"
   ]
  },
  {
   "cell_type": "markdown",
   "metadata": {},
   "source": [
    "* **null**\n",
    "\n",
    "Representa una referencia que apunta a un objeto o dirección inexistente o inválida.\n",
    "\n",
    "> Ejecutar `console.log(typeof null)` retorna `object`, un bug imposible de erradicar sin romper sitios web."
   ]
  },
  {
   "cell_type": "code",
   "execution_count": 3,
   "metadata": {},
   "outputs": [
    {
     "name": "stdout",
     "output_type": "stream",
     "text": [
      "object\n"
     ]
    }
   ],
   "source": [
    "// Null\n",
    "console.log(typeof null);"
   ]
  },
  {
   "cell_type": "markdown",
   "metadata": {},
   "source": [
    "* **undefined**\n",
    "\n",
    "Automáticamente asignado a variables que no han sido inicializadas."
   ]
  },
  {
   "cell_type": "code",
   "execution_count": 4,
   "metadata": {},
   "outputs": [
    {
     "name": "stdout",
     "output_type": "stream",
     "text": [
      "undefined\n"
     ]
    }
   ],
   "source": [
    "// Undefined\n",
    "let my_undefined_var;\n",
    "console.log(typeof my_undefined_var);"
   ]
  },
  {
   "cell_type": "markdown",
   "metadata": {},
   "source": [
    "* **Number**\n",
    "\n",
    "Tipo de dato numérico, representa a los enteros y decimales como *floating points*."
   ]
  },
  {
   "cell_type": "code",
   "execution_count": 9,
   "metadata": {},
   "outputs": [
    {
     "name": "stdout",
     "output_type": "stream",
     "text": [
      "number\n",
      "number\n",
      "number\n"
     ]
    }
   ],
   "source": [
    "// Float\n",
    "let my_float = 2.5;\n",
    "console.log(typeof my_float);\n",
    "\n",
    "// Int\n",
    "let my_int = 5;\n",
    "console.log(typeof my_int);\n",
    "\n",
    "// Negative\n",
    "let my_neg = -75.2;\n",
    "console.log(typeof my_neg);"
   ]
  },
  {
   "cell_type": "markdown",
   "metadata": {},
   "source": [
    "* **String**\n",
    "\n",
    "Secuencia de caractéres."
   ]
  },
  {
   "cell_type": "code",
   "execution_count": null,
   "metadata": {},
   "outputs": [
    {
     "name": "stdout",
     "output_type": "stream",
     "text": [
      "string\n",
      "string\n",
      "string\n",
      "string\n"
     ]
    }
   ],
   "source": [
    "// String\n",
    "console.log(typeof \"a\");\n",
    "console.log(typeof \"abecedari9\");\n",
    "console.log(typeof 'single quotes');\n",
    "console.log(typeof `backticks`)"
   ]
  },
  {
   "cell_type": "markdown",
   "metadata": {},
   "source": [
    "### Objetos\n",
    "\n",
    "JavaScript los define como *colecciones de propiedades* y se conforman de *llave-valor*'es."
   ]
  },
  {
   "cell_type": "code",
   "execution_count": 3,
   "metadata": {},
   "outputs": [
    {
     "name": "stdout",
     "output_type": "stream",
     "text": [
      "object\n"
     ]
    }
   ],
   "source": [
    "const my_obj = {\n",
    "    key: \"Value\"\n",
    "};\n",
    "\n",
    "console.log(typeof my_obj);"
   ]
  },
  {
   "cell_type": "markdown",
   "metadata": {},
   "source": [
    "Más de ellos en el capítulo 5."
   ]
  },
  {
   "cell_type": "markdown",
   "metadata": {},
   "source": [
    "## Conversión de tipos\n",
    "\n",
    "Al ser un lenguaje tipado dinámicamente, es posible cambiar el tipo de una variable."
   ]
  },
  {
   "cell_type": "markdown",
   "metadata": {},
   "source": [
    "### Re-declaración\n",
    "\n",
    "La forma más común de cambiar un tipo."
   ]
  },
  {
   "cell_type": "code",
   "execution_count": 3,
   "metadata": {},
   "outputs": [
    {
     "name": "stdout",
     "output_type": "stream",
     "text": [
      "5\n",
      "number\n",
      "Anana\n",
      "string\n"
     ]
    }
   ],
   "source": [
    "// Define as Number\n",
    "let my_var = 5;\n",
    "console.log(my_var);\n",
    "console.log(typeof my_var);\n",
    "\n",
    "// Change to String\n",
    "my_var = \"Anana\";\n",
    "console.log(my_var);\n",
    "console.log(typeof my_var);"
   ]
  },
  {
   "cell_type": "markdown",
   "metadata": {},
   "source": [
    "### Coerción\n",
    "\n",
    "Al ser un lenguaje débilmente tipado permite operar dos tipo diferentes aplicando coerción implícita."
   ]
  },
  {
   "cell_type": "markdown",
   "metadata": {},
   "source": [
    "* **Coerción en la concatenación**\n",
    "\n",
    "Si un operando es un string, toda la suma se convierte en una concatenación."
   ]
  },
  {
   "cell_type": "code",
   "execution_count": 4,
   "metadata": {},
   "outputs": [
    {
     "name": "stdout",
     "output_type": "stream",
     "text": [
      "23456\n",
      "string\n"
     ]
    }
   ],
   "source": [
    "let concat_coercion = \"2\" + 3 + 4 + 5 + 6;\n",
    "console.log(concat_coercion);\n",
    "console.log(typeof concat_coercion)"
   ]
  },
  {
   "cell_type": "markdown",
   "metadata": {},
   "source": [
    "* **Coerción en la igualdad**\n",
    "\n",
    "Si un operando es un primitivo y el otro un objeto, este último es convertido a un primitivo."
   ]
  },
  {
   "cell_type": "code",
   "execution_count": 5,
   "metadata": {},
   "outputs": [
    {
     "name": "stdout",
     "output_type": "stream",
     "text": [
      "true\n"
     ]
    }
   ],
   "source": [
    "let val_1 = 2;\n",
    "let val_2 = { hello: \"2\" };\n",
    "\n",
    "console.log(val_1 != val_2);"
   ]
  },
  {
   "cell_type": "markdown",
   "metadata": {},
   "source": [
    "### Objetos globales\n",
    "\n",
    "Pueden invocarse en cualquier parte del programa y cambiar el tipo de una variable."
   ]
  },
  {
   "cell_type": "markdown",
   "metadata": {},
   "source": [
    "#### Números"
   ]
  },
  {
   "cell_type": "markdown",
   "metadata": {},
   "source": [
    "* **Number()**\n",
    "\n",
    "Convierte un string u otro valor a un número."
   ]
  },
  {
   "cell_type": "code",
   "execution_count": 7,
   "metadata": {},
   "outputs": [
    {
     "name": "stdout",
     "output_type": "stream",
     "text": [
      "Extrae números de strings\n",
      "12\n",
      "1.2\n",
      "255\n"
     ]
    }
   ],
   "source": [
    "console.log(\"Extrae números de strings\");\n",
    "console.log(Number(\"12\")); // Int\n",
    "console.log(Number(\"1.2\")); // Float\n",
    "console.log(Number(\"0xff\")); // Hexadecimal"
   ]
  },
  {
   "cell_type": "code",
   "execution_count": 8,
   "metadata": {},
   "outputs": [
    {
     "name": "stdout",
     "output_type": "stream",
     "text": [
      "Extrae ceros de representaciones de la nada\n",
      "0\n",
      "0\n",
      "0\n"
     ]
    }
   ],
   "source": [
    "console.log(\"Extrae ceros de representaciones de la nada\");\n",
    "console.log(Number(\"\")); // Vacío\n",
    "console.log(Number(\"        \")); // Espacio\n",
    "console.log(Number(null)) // Inválido"
   ]
  },
  {
   "cell_type": "code",
   "execution_count": 9,
   "metadata": {},
   "outputs": [
    {
     "name": "stdout",
     "output_type": "stream",
     "text": [
      "Representa booleans como 0's y 1's\n",
      "1\n",
      "0\n",
      "1\n",
      "0\n"
     ]
    }
   ],
   "source": [
    "console.log(\"Representa booleans como 0's y 1's\")\n",
    "console.log(Number( true ));\n",
    "console.log(Number( false ));\n",
    "console.log(Number( (1<2) ));\n",
    "console.log(Number( (1===2) ));"
   ]
  },
  {
   "cell_type": "code",
   "execution_count": 10,
   "metadata": {},
   "outputs": [
    {
     "name": "stdout",
     "output_type": "stream",
     "text": [
      "Convierte fechas a tiempo UNIX\n",
      "1733957901889\n"
     ]
    }
   ],
   "source": [
    "console.log(\"Convierte fechas a tiempo UNIX\")\n",
    "console.log( Number(new Date()) );"
   ]
  },
  {
   "cell_type": "code",
   "execution_count": 4,
   "metadata": {},
   "outputs": [
    {
     "name": "stdout",
     "output_type": "stream",
     "text": [
      "undefined no es convertible a número\n",
      "NaN\n",
      "Pero sí bajo coerción\n",
      "1\n"
     ]
    }
   ],
   "source": [
    "console.log(\"undefined no es convertible a número\");\n",
    "console.log(Number(undefined));\n",
    "\n",
    "console.log(\"Pero sí bajo coerción\");\n",
    "console.log(Number(!undefined));"
   ]
  },
  {
   "cell_type": "markdown",
   "metadata": {},
   "source": [
    "* **parseInt()** &ndash; extrae el primer match que sea un `int`:\n",
    "\n",
    "> Si no es posible realizar la conversión se retorna `NaN`."
   ]
  },
  {
   "cell_type": "code",
   "execution_count": null,
   "metadata": {},
   "outputs": [
    {
     "name": "stdout",
     "output_type": "stream",
     "text": [
      "1234\n",
      "NaN\n"
     ]
    }
   ],
   "source": [
    "const myConst1 = \"1234fghi567\";\n",
    "const myConst2 = \"abcd6789jkl\";\n",
    "\n",
    "console.log(parseInt(myConst1));\n",
    "console.log(parseInt(myConst2));"
   ]
  },
  {
   "cell_type": "markdown",
   "metadata": {},
   "source": [
    "* **parseFloat()** &ndash; extrae el primer match que sea un `int`:\n",
    "\n",
    "> Si no es posible realizar la conversión se retorna `NaN`."
   ]
  },
  {
   "cell_type": "code",
   "execution_count": null,
   "metadata": {},
   "outputs": [
    {
     "name": "stdout",
     "output_type": "stream",
     "text": [
      "12.34\n",
      "NaN\n",
      "3.14\n",
      "3.14\n",
      "3.14\n"
     ]
    }
   ],
   "source": [
    "const myConst1 = \"12.34efg.hij56.78\"\n",
    "const myConst2 = \"abcd45.67hij\"\n",
    "\n",
    "console.log(parseFloat(myConst1))\n",
    "console.log(parseFloat(myConst2))\n",
    "\n",
    "// Algunos ejemplos más exóticos\n",
    "console.log(parseFloat(\"3.14\"));      // 3.14\n",
    "console.log(parseFloat(\"314e-2\"));    // 3.14\n",
    "console.log(parseFloat(\"0.0314E+2\")); // 3.14"
   ]
  },
  {
   "cell_type": "markdown",
   "metadata": {},
   "source": [
    "#### String"
   ]
  },
  {
   "cell_type": "markdown",
   "metadata": {},
   "source": [
    "* **String()** &ndash; constructor que crea objetos de tipo `string`:"
   ]
  },
  {
   "cell_type": "code",
   "execution_count": null,
   "metadata": {},
   "outputs": [
    {
     "name": "stdout",
     "output_type": "stream",
     "text": [
      "string\n",
      "string\n",
      "string\n",
      "object\n"
     ]
    }
   ],
   "source": [
    "const strPrim = \"foo\"; // A literal is a string primitive\n",
    "const strPrim2 = String(1); // Coerced into the string primitive \"1\"\n",
    "const strPrim3 = String(true); // Coerced into the string primitive \"true\"\n",
    "const strObj = new String(strPrim); // String with new returns a string wrapper object.\n",
    "\n",
    "console.log(typeof strPrim); // \"string\"\n",
    "console.log(typeof strPrim2); // \"string\"\n",
    "console.log(typeof strPrim3); // \"string\"\n",
    "console.log(typeof strObj); // \"object\""
   ]
  },
  {
   "cell_type": "markdown",
   "metadata": {},
   "source": [
    "## Operaciones\n",
    "\n",
    "> Se presentan situaciones triviales para acercar de forma gradual el lenguaje."
   ]
  },
  {
   "cell_type": "markdown",
   "metadata": {},
   "source": [
    "### Números"
   ]
  },
  {
   "cell_type": "markdown",
   "metadata": {},
   "source": [
    "* **Suma**"
   ]
  },
  {
   "cell_type": "code",
   "execution_count": null,
   "metadata": {},
   "outputs": [
    {
     "name": "stdout",
     "output_type": "stream",
     "text": [
      "5\n"
     ]
    }
   ],
   "source": [
    "let suma = 3;\n",
    "const num = 2;\n",
    "suma = suma + num;\n",
    "\n",
    "console.log(suma)"
   ]
  },
  {
   "cell_type": "markdown",
   "metadata": {},
   "source": [
    "* **Resta**"
   ]
  },
  {
   "cell_type": "code",
   "execution_count": null,
   "metadata": {},
   "outputs": [
    {
     "name": "stdout",
     "output_type": "stream",
     "text": [
      "1\n"
     ]
    }
   ],
   "source": [
    "let resta = 3;\n",
    "const num = 2;\n",
    "resta = resta - num;\n",
    "\n",
    "console.log(resta);"
   ]
  },
  {
   "cell_type": "markdown",
   "metadata": {},
   "source": [
    "* **Multiplicación**"
   ]
  },
  {
   "cell_type": "code",
   "execution_count": null,
   "metadata": {},
   "outputs": [
    {
     "name": "stdout",
     "output_type": "stream",
     "text": [
      "6\n"
     ]
    }
   ],
   "source": [
    "let mult = 3;\n",
    "const num = 2;\n",
    "mult = mult * num;\n",
    "\n",
    "console.log(mult);"
   ]
  },
  {
   "cell_type": "markdown",
   "metadata": {},
   "source": [
    "* **División**"
   ]
  },
  {
   "cell_type": "code",
   "execution_count": null,
   "metadata": {},
   "outputs": [
    {
     "name": "stdout",
     "output_type": "stream",
     "text": [
      "1.5\n"
     ]
    }
   ],
   "source": [
    "let div = 3;\n",
    "const num = 2;\n",
    "div = div / num;\n",
    "\n",
    "console.log(div);"
   ]
  },
  {
   "cell_type": "markdown",
   "metadata": {},
   "source": [
    "* **Resto**"
   ]
  },
  {
   "cell_type": "code",
   "execution_count": null,
   "metadata": {},
   "outputs": [
    {
     "name": "stdout",
     "output_type": "stream",
     "text": [
      "2\n"
     ]
    }
   ],
   "source": [
    "let mod = 7;\n",
    "const num = 5;\n",
    "mod = mod % num;\n",
    "\n",
    "console.log(mod);"
   ]
  },
  {
   "cell_type": "markdown",
   "metadata": {},
   "source": [
    "* **Incrementador**"
   ]
  },
  {
   "cell_type": "code",
   "execution_count": null,
   "metadata": {},
   "outputs": [
    {
     "name": "stdout",
     "output_type": "stream",
     "text": [
      "5\n",
      "6\n"
     ]
    }
   ],
   "source": [
    "let num = 5;\n",
    "console.log(num);\n",
    "num++;\n",
    "console.log(num);"
   ]
  },
  {
   "cell_type": "markdown",
   "metadata": {},
   "source": [
    "* **Decrementador**"
   ]
  },
  {
   "cell_type": "code",
   "execution_count": null,
   "metadata": {},
   "outputs": [
    {
     "name": "stdout",
     "output_type": "stream",
     "text": [
      "5\n",
      "4\n"
     ]
    }
   ],
   "source": [
    "let num = 5;\n",
    "console.log(num);\n",
    "num--;\n",
    "console.log(num);"
   ]
  },
  {
   "cell_type": "markdown",
   "metadata": {},
   "source": [
    "### Strings"
   ]
  },
  {
   "cell_type": "markdown",
   "metadata": {},
   "source": [
    "* **Concatenación**"
   ]
  },
  {
   "cell_type": "code",
   "execution_count": null,
   "metadata": {},
   "outputs": [
    {
     "name": "stdout",
     "output_type": "stream",
     "text": [
      "Hello World\n"
     ]
    }
   ],
   "source": [
    "const firstWord = \"Hello\";\n",
    "const separator = \" \";\n",
    "const secondWord = \"World\"\n",
    "\n",
    "const fullWord = firstWord+separator+secondWord;\n",
    "console.log(fullWord);"
   ]
  },
  {
   "cell_type": "markdown",
   "metadata": {},
   "source": [
    "* **Interpolación**"
   ]
  },
  {
   "cell_type": "code",
   "execution_count": null,
   "metadata": {},
   "outputs": [
    {
     "name": "stdout",
     "output_type": "stream",
     "text": [
      "The number 1 plus 2 equals 3\n"
     ]
    }
   ],
   "source": [
    "const firstNumber = 1;\n",
    "const secondNumber = 2;\n",
    "\n",
    "console.log(`The number ${firstNumber} plus ${secondNumber} equals ${firstNumber+secondNumber}`);"
   ]
  },
  {
   "cell_type": "markdown",
   "metadata": {},
   "source": [
    "### Comparación"
   ]
  },
  {
   "cell_type": "markdown",
   "metadata": {},
   "source": [
    "* **(Des)igualdad sin diferencia de tipos**\n",
    "\n",
    "Aplica coerción para calzar los tipos."
   ]
  },
  {
   "cell_type": "code",
   "execution_count": null,
   "metadata": {},
   "outputs": [
    {
     "name": "stdout",
     "output_type": "stream",
     "text": [
      "true\n",
      "false\n"
     ]
    }
   ],
   "source": [
    "const myString = \"2\";\n",
    "const myNumber = 2;\n",
    "\n",
    "console.log(myString == myNumber);\n",
    "console.log(myString != myNumber);"
   ]
  },
  {
   "cell_type": "markdown",
   "metadata": {},
   "source": [
    "* **(Des)igualdad con diferencia de tipos**\n",
    "\n",
    "Si los operandos tienen diferentes tipos, son considerados diferentes."
   ]
  },
  {
   "cell_type": "code",
   "execution_count": null,
   "metadata": {},
   "outputs": [
    {
     "name": "stdout",
     "output_type": "stream",
     "text": [
      "false\n",
      "true\n"
     ]
    }
   ],
   "source": [
    "const myString = \"2\";\n",
    "const myNumber = 2;\n",
    "\n",
    "console.log(myString === myNumber);\n",
    "console.log(myString !== myNumber);"
   ]
  },
  {
   "cell_type": "markdown",
   "metadata": {},
   "source": [
    "> Los operadores `>`, `<`, `>=` y `<=` se comportan de la forma tradicional."
   ]
  },
  {
   "cell_type": "markdown",
   "metadata": {},
   "source": [
    "### Booleanos"
   ]
  },
  {
   "cell_type": "markdown",
   "metadata": {},
   "source": [
    "* Conjunción ($A \\lor B$)"
   ]
  },
  {
   "cell_type": "code",
   "execution_count": null,
   "metadata": {},
   "outputs": [
    {
     "name": "stdout",
     "output_type": "stream",
     "text": [
      "true\n"
     ]
    }
   ],
   "source": [
    "const myBoolOne = true;\n",
    "const MuBoolTwo = false;\n",
    "\n",
    "console.log(myBoolOne || myBoolTwo)"
   ]
  },
  {
   "cell_type": "markdown",
   "metadata": {},
   "source": [
    "* Unión ($A \\land B$)"
   ]
  },
  {
   "cell_type": "code",
   "execution_count": null,
   "metadata": {},
   "outputs": [
    {
     "name": "stdout",
     "output_type": "stream",
     "text": [
      "false\n"
     ]
    }
   ],
   "source": [
    "const myBoolOne = true;\n",
    "const myBoolTwo = false;\n",
    "\n",
    "console.log(myBoolOne && myBoolTwo)"
   ]
  },
  {
   "cell_type": "markdown",
   "metadata": {},
   "source": [
    "* Negación ($¬A$)"
   ]
  },
  {
   "cell_type": "code",
   "execution_count": null,
   "metadata": {},
   "outputs": [
    {
     "name": "stdout",
     "output_type": "stream",
     "text": [
      "true\n"
     ]
    }
   ],
   "source": [
    "const myBoolOne = true;\n",
    "const myBoolTwo = false;\n",
    "\n",
    "console.log(myBoolOne && !myBoolTwo)"
   ]
  },
  {
   "cell_type": "markdown",
   "metadata": {},
   "source": [
    "# Anexo"
   ]
  },
  {
   "cell_type": "markdown",
   "metadata": {},
   "source": [
    "## Uso en el navegador de Internet"
   ]
  },
  {
   "cell_type": "markdown",
   "metadata": {},
   "source": [
    "Existen dos formas para agregar JavaScript a un sitio web:\n",
    "\n",
    "* Anidado en una etiqueta HTML:\n",
    "\n",
    "```HTML\n",
    "<script>\n",
    "  console.log(\"Hello World\");\n",
    "  console.log(\"Goodbye World\");\n",
    "</script>\n",
    "```\n",
    "\n",
    "* Como atributo source en una etiqueta HTML:\n",
    "\n",
    "```HTML\n",
    "<script src=\"path/to/file.js\">\n",
    "</script>\n",
    "```"
   ]
  },
  {
   "cell_type": "markdown",
   "metadata": {},
   "source": [
    "## Entrada y Salida"
   ]
  },
  {
   "cell_type": "markdown",
   "metadata": {},
   "source": [
    "* Imprime en la consola"
   ]
  },
  {
   "cell_type": "code",
   "execution_count": 15,
   "metadata": {},
   "outputs": [
    {
     "name": "stdout",
     "output_type": "stream",
     "text": [
      "Esto se imprime en la consola\n"
     ]
    }
   ],
   "source": [
    "console.log(\"Esto se imprime en la consola\")"
   ]
  },
  {
   "cell_type": "markdown",
   "metadata": {},
   "source": [
    "* Abre un cuadro de diálogo frente al sitio web"
   ]
  },
  {
   "cell_type": "code",
   "execution_count": 16,
   "metadata": {},
   "outputs": [],
   "source": [
    "alert(\"YOUR PRINTER IS ON FIRE\")"
   ]
  },
  {
   "cell_type": "markdown",
   "metadata": {},
   "source": [
    "* Espera hasta recibir un input\n",
    "\n",
    "```Javascript\n",
    "prompt(\"Insert password >\")\n",
    "```"
   ]
  },
  {
   "cell_type": "markdown",
   "metadata": {},
   "source": [
    "## Control de tipado dinámico"
   ]
  },
  {
   "cell_type": "markdown",
   "metadata": {},
   "source": [
    "# Véase también\n",
    "\n",
    "* Glossary &ndash; Mozilla Developers\n",
    "    * [Primitive](https://developer.mozilla.org/en-US/docs/Glossary/Primitive)\n",
    "        * [Boolean](https://developer.mozilla.org/en-US/docs/Glossary/Boolean)\n",
    "        * [Null](https://developer.mozilla.org/en-US/docs/Glossary/Null)\n",
    "        * [Undefined](https://developer.mozilla.org/en-US/docs/Glossary/Undefined)\n",
    "        * [Number](https://developer.mozilla.org/en-US/docs/Glossary/Number)\n",
    "        * [String](https://developer.mozilla.org/en-US/docs/Glossary/String)\n",
    "    * [Objects](https://developer.mozilla.org/en-US/docs/Glossary/Object)\n",
    "\n",
    "* Reference/Statemens &ndash; Mozilla Developers\n",
    "    * [var](https://developer.mozilla.org/en-US/docs/Web/JavaScript/Reference/Statements/var)\n",
    "    * [let](https://developer.mozilla.org/en-US/docs/Web/JavaScript/Reference/Statements/let)\n",
    "    * [const](https://developer.mozilla.org/en-US/docs/Web/JavaScript/Reference/Statements/const)\n",
    "\n",
    "* Reference/Operators &ndash; Mozilla Developers\n",
    "    * [Addition](https://developer.mozilla.org/en-US/docs/Web/JavaScript/Reference/Operators/Addition)\n",
    "    * [Substraction](https://developer.mozilla.org/en-US/docs/Web/JavaScript/Reference/Operators/Subtraction)\n",
    "    * [Multiplication](https://developer.mozilla.org/en-US/docs/Web/JavaScript/Reference/Operators/Multiplication)\n",
    "    * [Division](https://developer.mozilla.org/en-US/docs/Web/JavaScript/Reference/Operators/Division)\n",
    "    * [Remainder](https://developer.mozilla.org/en-US/docs/Web/JavaScript/Reference/Operators/Remainder)\n",
    "    * [Increment](https://developer.mozilla.org/en-US/docs/Web/JavaScript/Reference/Operators/Increment)\n",
    "    * [Decrement](https://developer.mozilla.org/en-US/docs/Web/JavaScript/Reference/Operators/Decrement)\n",
    "    * [Equality](https://developer.mozilla.org/en-US/docs/Web/JavaScript/Reference/Operators/Equality)\n",
    "    * [Inequality](https://developer.mozilla.org/en-US/docs/Web/JavaScript/Reference/Operators/Inequality)\n",
    "    * [Strict Equality](https://developer.mozilla.org/en-US/docs/Web/JavaScript/Reference/Operators/Strict_equality)\n",
    "    * [Strict Inequality](https://developer.mozilla.org/en-US/docs/Web/JavaScript/Reference/Operators/Strict_inequality)\n",
    "\n",
    "\n",
    "\n",
    "* Reference/Global Objects &ndash; Mozilla Developers\n",
    "    * [Numeber](https://developer.mozilla.org/en-US/docs/Web/JavaScript/Reference/Global_Objects/Number)\n",
    "    * [String](https://developer.mozilla.org/en-US/docs/Web/JavaScript/Reference/Global_Objects/String)\n",
    "\n",
    "* Guide &ndash; Mozilla Developers\n",
    "    * [Grammar and Types](https://developer.mozilla.org/en-US/docs/Web/JavaScript/Guide/Grammar_and_types)\n",
    "    * [Modules](https://developer.mozilla.org/en-US/docs/Web/JavaScript/Guide/Modules)\n",
    "\n",
    "* [Data structures &ndash; Mozilla Developers](https://developer.mozilla.org/en-US/docs/Web/JavaScript/Data_structures#)\n",
    "* [Blogspot &ndash; funciones parseInt(), parseFloat(), Number()](https://notasjs.blogspot.com/2013/06/funciones-parseint-parsefloat-number-y.html)\n",
    "* [Mozilla Developers &ndash; String primitives and String objects](https://developer.mozilla.org/en-US/docs/Web/JavaScript/Reference/Global_Objects/String#string_primitives_and_string_objects)"
   ]
  }
 ],
 "metadata": {
  "kernelspec": {
   "display_name": "Deno",
   "language": "typescript",
   "name": "deno"
  },
  "language_info": {
   "codemirror_mode": "typescript",
   "file_extension": ".ts",
   "mimetype": "text/x.typescript",
   "name": "typescript",
   "nbconvert_exporter": "script",
   "pygments_lexer": "typescript",
   "version": "5.6.2"
  }
 },
 "nbformat": 4,
 "nbformat_minor": 2
}
