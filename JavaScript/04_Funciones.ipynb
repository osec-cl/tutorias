{
 "cells": [
  {
   "cell_type": "markdown",
   "metadata": {},
   "source": [
    "# Funciones\n",
    "\n",
    "Una función es un pedazo de código que puede ser llamado por otro código &ndash; o sí misma en caso de ser recursiva.\n",
    "\n",
    "En JavaScript las funciones son [first-class citizens](https://en.wikipedia.org/wiki/First-class_citizen), en otras palabras, soportan todas las operaciones generalmente disponibles para otras entidades:\n",
    "\n",
    "* Ser pasadas como argumentos de funciones.\n",
    "* Ser retornadas por funciones.\n",
    "* Ser asignadas a una variable.\n",
    "* Ser almacenadas en estructuras de datos.\n",
    "\n",
    "Para ello, primero se analizará dos grupos de funciones."
   ]
  },
  {
   "cell_type": "markdown",
   "metadata": {},
   "source": [
    "## Named vs Anonymous"
   ]
  },
  {
   "cell_type": "markdown",
   "metadata": {},
   "source": [
    "* **Named function**\n",
    "\n",
    "Una *función nombrada* es aquella definida con un nombre."
   ]
  },
  {
   "cell_type": "code",
   "execution_count": 1,
   "metadata": {},
   "outputs": [
    {
     "name": "stdout",
     "output_type": "stream",
     "text": [
      "Palta\n"
     ]
    }
   ],
   "source": [
    "function entrega_palta() {\n",
    "    console.log(\"Palta\");\n",
    "}\n",
    "\n",
    "entrega_palta();"
   ]
  },
  {
   "cell_type": "markdown",
   "metadata": {},
   "source": [
    "* **Anonymous function**\n",
    "\n",
    "Una *función anónima* es aquella definida sin un nombre."
   ]
  },
  {
   "cell_type": "code",
   "execution_count": 2,
   "metadata": {},
   "outputs": [
    {
     "name": "stdout",
     "output_type": "stream",
     "text": [
      "Palta anónima\n"
     ]
    }
   ],
   "source": [
    "(\n",
    "function () {\n",
    "    console.log(\"Palta anónima\")\n",
    "}\n",
    ")();"
   ]
  },
  {
   "cell_type": "markdown",
   "metadata": {},
   "source": [
    "* Al no tener nombre, la función debe residir entre `(` y `)`.\n",
    "* Haciendo append de `()`, ejecutamos la función inmediatamente tras su definición."
   ]
  },
  {
   "cell_type": "markdown",
   "metadata": {},
   "source": [
    "## Declaration vs Expression"
   ]
  },
  {
   "cell_type": "markdown",
   "metadata": {},
   "source": [
    "### Function declaration\n",
    "\n",
    "Corresponde a las *named functions* y consisten de:\n",
    "\n",
    "* La palabra `function`.\n",
    "* El nombre de la función e.g. `enrega_fruta`.\n",
    "* Una lista de parámetros e.g. `(nombre, cantidad)`.\n",
    "* El bloque de código a ejecutar entre `{` y `}`.\n",
    "* Terminan con un `return` en la última línea.\n",
    "    * Del contrario siempre retornan `undefined` &ndash; que es un [Falsy](https://developer.mozilla.org/en-US/docs/Glossary/Falsy)."
   ]
  },
  {
   "cell_type": "code",
   "execution_count": 3,
   "metadata": {},
   "outputs": [
    {
     "name": "stdout",
     "output_type": "stream",
     "text": [
      "Aquí tiene 3 de Tomate\n"
     ]
    }
   ],
   "source": [
    "function entrega_fruta(nombre, cantidad) {\n",
    "    return `Aquí tiene ${cantidad} de ${nombre}`;\n",
    "}\n",
    "\n",
    "let val = entrega_fruta(\"Tomate\", 3);\n",
    "console.log(val);"
   ]
  },
  {
   "cell_type": "markdown",
   "metadata": {},
   "source": [
    "> **IMPORTANTE:**\n",
    ">\n",
    "> Las *function declaration* son cargadas antes que el resto del código, por lo que siempre están disponibles para utilizarse.\n",
    ">\n",
    "> Forman parte del Global Scope."
   ]
  },
  {
   "cell_type": "markdown",
   "metadata": {},
   "source": [
    "### Function expression\n",
    "\n",
    "Corresponde a las funciones que son *declaradas como una variable*, de aquí se separan en dos grupos."
   ]
  },
  {
   "cell_type": "markdown",
   "metadata": {},
   "source": [
    "* **Named function expressions**\n",
    "\n",
    "La función es capaz de referirse a sí misma."
   ]
  },
  {
   "cell_type": "code",
   "execution_count": 4,
   "metadata": {},
   "outputs": [
    {
     "data": {
      "text/plain": [
       "\u001b[32m\"Soy del tipo function\"\u001b[39m"
      ]
     },
     "execution_count": 4,
     "metadata": {},
     "output_type": "execute_result"
    }
   ],
   "source": [
    "const f = function name_func() {\n",
    "    return `Soy del tipo ${typeof name_func}`;\n",
    "};\n",
    "\n",
    "f();"
   ]
  },
  {
   "cell_type": "markdown",
   "metadata": {},
   "source": [
    "Es útil colocar un nombre a la función para debuggear un programa."
   ]
  },
  {
   "cell_type": "markdown",
   "metadata": {},
   "source": [
    "* **Anonymous function expressions**\n",
    "\n",
    "La función es anónima y se define sin nombre."
   ]
  },
  {
   "cell_type": "code",
   "execution_count": 5,
   "metadata": {},
   "outputs": [
    {
     "name": "stdout",
     "output_type": "stream",
     "text": [
      "Palta anónima 2\n"
     ]
    }
   ],
   "source": [
    "const g = function () {\n",
    "        console.log(\"Palta anónima 2\")\n",
    "};\n",
    "\n",
    "g();"
   ]
  },
  {
   "cell_type": "markdown",
   "metadata": {},
   "source": [
    "Notar que no fue necesario encerrarla entre `(` y `)`, esto porque la variable fue definida como la función, permitiéndole ejecutarse como tal.\n",
    "\n",
    "La function expression `g` fue definida e invocada inmediatamente. Existe un *shortahnd* para este comportamiento."
   ]
  },
  {
   "cell_type": "markdown",
   "metadata": {},
   "source": [
    "* **IIEF &ndash; Immediately invoked function expression**"
   ]
  },
  {
   "cell_type": "code",
   "execution_count": 6,
   "metadata": {},
   "outputs": [
    {
     "name": "stdout",
     "output_type": "stream",
     "text": [
      "Palta anónima 3\n"
     ]
    }
   ],
   "source": [
    "const h = (\n",
    "    function () {\n",
    "        console.log(\"Palta anónima 3\")\n",
    "}\n",
    ")();"
   ]
  },
  {
   "cell_type": "markdown",
   "metadata": {},
   "source": [
    "Encerrar la definición de la función entre `(` y `)` y luego añadir al final `()` ejecuta inmediatamente la función recién definida. Esta es una propiedad de las function expressions consistente en todos los intérpretes de JavaScript.\n",
    "\n",
    "Es posible compactar aún más este código quitando la palabra `function` y cambiando la semántica de la definición, pero esto limitará su funcionamiento."
   ]
  },
  {
   "cell_type": "markdown",
   "metadata": {},
   "source": [
    "* **Arrow function expressions**\n",
    "\n",
    "Versión compacta de function expessions.\n",
    "    \n",
    "> * Observaciones:\n",
    ">    * No poseen las variables `this`, `super` ni `arguments`.\n",
    ">    * No pueden utilizarse de forma segura como métodos.\n",
    ">    * No pueden instanciarse con el constructor `new`.\n",
    ">    * No tienen acceso a la meta-propiedad `new.target`.\n",
    ">    * No pueden hacer uso de `yield` para ser funciones generadoras."
   ]
  },
  {
   "cell_type": "code",
   "execution_count": 7,
   "metadata": {},
   "outputs": [
    {
     "name": "stdout",
     "output_type": "stream",
     "text": [
      "Palta anónima 4\n"
     ]
    }
   ],
   "source": [
    "const i = () => console.log(\"Palta anónima 4\");\n",
    "i();"
   ]
  },
  {
   "cell_type": "markdown",
   "metadata": {},
   "source": [
    "Para ejecutarla inmediatamente basta con utilizar la forma `(...)();`"
   ]
  },
  {
   "cell_type": "markdown",
   "metadata": {},
   "source": [
    "Se utilizan regularmente en programación funcional."
   ]
  },
  {
   "cell_type": "code",
   "execution_count": 8,
   "metadata": {},
   "outputs": [
    {
     "name": "stdout",
     "output_type": "stream",
     "text": [
      "[ 8, 6, 7, 9 ]\n"
     ]
    }
   ],
   "source": [
    "const materials = ['Hydrogen', 'Helium', 'Lithium', 'Beryllium'];\n",
    "\n",
    "console.log(materials.map((material) => material.length));"
   ]
  },
  {
   "cell_type": "markdown",
   "metadata": {},
   "source": [
    "> **IMPORTANTE:**\n",
    ">\n",
    "> Las *function expression* son cargadas únicamente cuando el intérprete alcanza la línea de código que las define.\n",
    ">\n",
    "> No forman parte del Global Scope."
   ]
  },
  {
   "cell_type": "markdown",
   "metadata": {},
   "source": [
    "## Parameters\n",
    "\n",
    "JavaScript permite llamar una función utilizando menos argumentos que parámetros en su firma."
   ]
  },
  {
   "cell_type": "code",
   "execution_count": 9,
   "metadata": {},
   "outputs": [
    {
     "name": "stdout",
     "output_type": "stream",
     "text": [
      "Hello undefined\n"
     ]
    }
   ],
   "source": [
    "const greeting = (firstWord, secondWord) => console.log(firstWord, secondWord);\n",
    "\n",
    "greeting(\"Hello\");"
   ]
  },
  {
   "cell_type": "markdown",
   "metadata": {},
   "source": [
    "Esto es un problema, porque `undefined` es un [Falsy](https://developer.mozilla.org/en-US/docs/Glossary/Falsy) y su negación evalúa como verdadero."
   ]
  },
  {
   "cell_type": "code",
   "execution_count": 10,
   "metadata": {},
   "outputs": [
    {
     "name": "stdout",
     "output_type": "stream",
     "text": [
      "You fed me with a false value\n"
     ]
    }
   ],
   "source": [
    "function problem(bool) {\n",
    "    if (!bool) {\n",
    "        console.log(\"You fed me with a false value\");\n",
    "    } else {\n",
    "        console.log(\"You fed me with a true value\")\n",
    "    }}\n",
    "\n",
    "problem();"
   ]
  },
  {
   "cell_type": "markdown",
   "metadata": {},
   "source": [
    "### Default parameter\n",
    "\n",
    "Permite definir un valor en caso que se omita el argumento."
   ]
  },
  {
   "cell_type": "code",
   "execution_count": 11,
   "metadata": {},
   "outputs": [
    {
     "name": "stdout",
     "output_type": "stream",
     "text": [
      "You feed me with a true value\n"
     ]
    }
   ],
   "source": [
    "function problem(bool = true) {\n",
    "    if (!bool) {\n",
    "        console.log(\"You feed me with a false value\")\n",
    "    } else {\n",
    "        console.log(\"You feed me with a true value\")\n",
    "    }\n",
    "}\n",
    "\n",
    "problem();"
   ]
  },
  {
   "cell_type": "markdown",
   "metadata": {},
   "source": [
    "### Rest parameter\n",
    "\n",
    "Permite aceptar un número arbitrario de argumentos."
   ]
  },
  {
   "cell_type": "code",
   "execution_count": 12,
   "metadata": {},
   "outputs": [
    {
     "name": "stdout",
     "output_type": "stream",
     "text": [
      "0\n",
      "5\n",
      "25\n"
     ]
    }
   ],
   "source": [
    "function sum(first = 0, ...theRest) {\n",
    "    let total = first;\n",
    "    for (const arg of theRest) {\n",
    "        total += arg;\n",
    "    }\n",
    "    console.log(total)\n",
    "}\n",
    "\n",
    "sum();\n",
    "sum(2, 3);\n",
    "sum(2, 3, 5, 7, 8);"
   ]
  },
  {
   "cell_type": "markdown",
   "metadata": {},
   "source": [
    "## Arguments\n",
    "\n",
    "Cada función contiene los argumentos que recibe en un objeto array-like."
   ]
  },
  {
   "cell_type": "code",
   "execution_count": 13,
   "metadata": {},
   "outputs": [
    {
     "name": "stdout",
     "output_type": "stream",
     "text": [
      "0 [Arguments] {}\n",
      "5 [Arguments] { \"0\": \"A\", \"1\": \"B\", \"2\": \"C\", \"3\": \"D\", \"4\": \"E\" }\n"
     ]
    }
   ],
   "source": [
    "const nums = function (a, b, c, d, f) { console.log(arguments.length, arguments) }\n",
    "\n",
    "nums();\n",
    "nums(\"A\", \"B\", \"C\", \"D\", \"E\");"
   ]
  },
  {
   "cell_type": "markdown",
   "metadata": {},
   "source": [
    "## Returns"
   ]
  },
  {
   "cell_type": "markdown",
   "metadata": {},
   "source": [
    "### Funciones sin return\n",
    "\n",
    "Una función sin *return* retorna `undefined`, el cual es un [Falsy](https://developer.mozilla.org/en-US/docs/Glossary/Falsy)."
   ]
  },
  {
   "cell_type": "code",
   "execution_count": 14,
   "metadata": {},
   "outputs": [
    {
     "name": "stdout",
     "output_type": "stream",
     "text": [
      "I don't return anything\n",
      "undefined\n",
      "I don't return anything\n",
      "true\n"
     ]
    }
   ],
   "source": [
    "function no_return() {\n",
    "    console.log(\"I don't return anything\");\n",
    "}\n",
    "\n",
    "console.log(no_return());\n",
    "console.log(!no_return());"
   ]
  },
  {
   "cell_type": "markdown",
   "metadata": {},
   "source": [
    "> Nota: el operador `!` aplica coerción al falsy, evaluándolo como false y luego convirtiéndolo a true.\n",
    "\n",
    "Se recalca el manejo de casos `undefined`, puesto que al ser operado como booleano puede generar comportamiento no deseado y ser fuente de errores."
   ]
  },
  {
   "cell_type": "markdown",
   "metadata": {},
   "source": [
    "### Arrow function\n",
    "\n",
    "Las funciones flecha permiten un return implícito si el keyword no se utiliza."
   ]
  },
  {
   "cell_type": "code",
   "execution_count": 15,
   "metadata": {},
   "outputs": [
    {
     "name": "stdout",
     "output_type": "stream",
     "text": [
      "No soy undefined!\n"
     ]
    }
   ],
   "source": [
    "const implicit_return = () => \"No soy undefined!\";\n",
    "\n",
    "console.log(implicit_return());"
   ]
  },
  {
   "cell_type": "markdown",
   "metadata": {},
   "source": [
    "No obstante, no puedne retornar diccionarios de esta forma."
   ]
  },
  {
   "cell_type": "code",
   "execution_count": 16,
   "metadata": {},
   "outputs": [
    {
     "ename": "Expected ';', '}' or <eof> at file:///repl.tsx:1:42\n\n  const implicit_dictionary = () => { \"soy\": \"Un diccionario\" };\n                                           ~",
     "evalue": "Expected ';', '}' or <eof> at file:///repl.tsx:1:42\n\n  const implicit_dictionary = () => { \"soy\": \"Un diccionario\" };\n                                           ~",
     "output_type": "error",
     "traceback": []
    }
   ],
   "source": [
    "const implicit_dictionary = () => { \"soy\": \"Un diccionario\" };\n",
    "\n",
    "console.log(implicit_dictionary());"
   ]
  },
  {
   "cell_type": "markdown",
   "metadata": {},
   "source": [
    "Esto ocurre porque `{` y `}` introducen el cuerpo de una función flecha y la gramática se vuelve ambigüa. Para solucionarlo se debe envolver el diccionario entre `(` y `)`."
   ]
  },
  {
   "cell_type": "code",
   "execution_count": 17,
   "metadata": {},
   "outputs": [
    {
     "name": "stdout",
     "output_type": "stream",
     "text": [
      "{ soy: \"Un diccionario\" }\n"
     ]
    }
   ],
   "source": [
    "const implicit_dictionary_fixed = () => ({ \"soy\": \"Un diccionario\" });\n",
    "\n",
    "console.log(implicit_dictionary_fixed());"
   ]
  },
  {
   "cell_type": "markdown",
   "metadata": {},
   "source": [
    "# Véase también\n",
    "\n",
    "* Glossary &ndash; Mozilla Developers\n",
    "    * [Function](https://developer.mozilla.org/en-US/docs/Glossary/Function)\n",
    "\n",
    "* Reference &ndash; Mozilla Developers\n",
    "    * [Functions](https://developer.mozilla.org/en-US/docs/Web/JavaScript/Reference/Functions)\n",
    "    * [Functions/Arrow functions](https://developer.mozilla.org/en-US/docs/Web/JavaScript/Reference/Functions/Arrow_functions)\n",
    "    * [Functions/Default parameters](https://developer.mozilla.org/en-US/docs/Web/JavaScript/Reference/Functions/Default_parameters)\n",
    "    * [Functions/Rest parameters](https://developer.mozilla.org/en-US/docs/Web/JavaScript/Reference/Functions/rest_parameters)\n",
    "    * [Functions/Arguments](https://developer.mozilla.org/en-US/docs/Web/JavaScript/Reference/Functions/arguments)\n",
    "\n",
    "* Guide &ndash; Mozilla Developers\n",
    "    * [Guide/Functions](https://developer.mozilla.org/en-US/docs/Web/JavaScript/Guide/Functions)\n"
   ]
  }
 ],
 "metadata": {
  "kernelspec": {
   "display_name": "Deno",
   "language": "typescript",
   "name": "deno"
  },
  "language_info": {
   "codemirror_mode": "typescript",
   "file_extension": ".ts",
   "mimetype": "text/x.typescript",
   "name": "typescript",
   "nbconvert_exporter": "script",
   "pygments_lexer": "typescript",
   "version": "5.6.2"
  }
 },
 "nbformat": 4,
 "nbformat_minor": 2
}
